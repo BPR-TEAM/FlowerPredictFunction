{
 "cells": [
  {
   "cell_type": "markdown",
   "metadata": {},
   "source": [
    "### Purpose: Predicting which plant a user has at home"
   ]
  },
  {
   "cell_type": "markdown",
   "metadata": {},
   "source": [
    "### Use: The goal is to collect data and create a model that can effectively predict which plant the user has when uploading a photo on the platform."
   ]
  },
  {
   "cell_type": "markdown",
   "metadata": {},
   "source": [
    "### Problem type: Image Classification"
   ]
  },
  {
   "cell_type": "markdown",
   "metadata": {},
   "source": [
    "### Data Collection: The data was collected by members of the team and was limited to the available plants in their household and surroundings. So some of the plants are also limited to one stage of its growing, for example the tomato has only pictures of its fruit unripened, so a plant with a red tomato could be misclassified."
   ]
  },
  {
   "cell_type": "markdown",
   "metadata": {},
   "source": [
    "### Design Choices: The choice was to use ML.NET due to the easier integration and experience that the team had using Net.Core, and also due to it's easier integration with Azure Functions. Due to this choice, some of the options were limited when building the model, after some research on the available libraries in C# for machine learning, SciSharp.TensorFlow and Sci.Keras were taken into account to build the neural networks but none of them allowed for using a pre-trained model as a base to a customized CNN, due to this reason, there was a limitation to use one of the available DNN pre-trained models in ML.NET which on the other hand only allows pre-trained models, in our case and due to the short amount of data, it was a better choice to use pre-trained models instead of only the CNN without the pre-trained model as a base."
   ]
  },
  {
   "cell_type": "code",
   "execution_count": 2,
   "metadata": {},
   "outputs": [
    {
     "data": {
      "text/html": [
       "<div><div></div><div></div><div><strong>Installed Packages</strong><ul><li><span>Microsoft.Extensions.ML, 1.7.0</span></li><li><span>Microsoft.ML, 1.7.0</span></li><li><span>Microsoft.ML.ImageAnalytics, 1.7.0</span></li><li><span>Microsoft.ML.Vision, 1.7.0</span></li><li><span>SciSharp.TensorFlow.Redist-Windows-GPU, 1.14.0</span></li><li><span>XPlot.Plotly, 2.0.0</span></li></ul></div></div>"
      ]
     },
     "metadata": {},
     "output_type": "display_data"
    }
   ],
   "source": [
    "// ML.NET Nuget packages installation\n",
    "#r \"nuget:Microsoft.ML,1.7.0\"\n",
    "#r \"nuget:Microsoft.ML.Vision,1.7.0\"    \n",
    "#r \"nuget:Microsoft.ML.ImageAnalytics,1.7.0\"    \n",
    "#r \"nuget:Microsoft.Extensions.ML,1.7.0\"\n",
    "#r \"nuget:SciSharp.TensorFlow.Redist-Windows-GPU,1.14.0\"\n",
    "//Install XPlot package\n",
    "#r \"nuget:XPlot.Plotly,2.0.0\""
   ]
  },
  {
   "cell_type": "code",
   "execution_count": 20,
   "metadata": {},
   "outputs": [
    {
     "name": "stderr",
     "output_type": "stream",
     "text": [
      "\n",
      "(57,23): warning CS0649: Field 'ImagePredictionOutput.PredictedLabel' is never assigned to, and will always have its default value null\n",
      "\n",
      "(54,24): warning CS0649: Field 'ImagePredictionOutput.Score' is never assigned to, and will always have its default value null\n",
      "\n"
     ]
    }
   ],
   "source": [
    "using Microsoft.ML.Data;\n",
    "using Microsoft.ML;\n",
    "using Microsoft.ML.Vision;\n",
    "using System.IO;\n",
    "using System;\n",
    "using static Microsoft.ML.Transforms.ValueToKeyMappingEstimator;\n",
    "using System.Linq;\n",
    "\n",
    "public static IEnumerable<ImageData> LoadImages(\n",
    "            string folder,\n",
    "            bool useFolderNameAsLabel = true)\n",
    "            => LoadImagesFromDirectory(folder, useFolderNameAsLabel)\n",
    "                .Select(x => new ImageData(x.imagePath, x.label));\n",
    "\n",
    "public static IEnumerable<(string imagePath, string label)> LoadImagesFromDirectory(\n",
    "            string folder,\n",
    "            bool useFolderNameasLabel)\n",
    "        {\n",
    "            var imagesPath = Directory\n",
    "                .GetFiles(folder, \"*\", searchOption: SearchOption.AllDirectories)\n",
    "                .Where(x => Path.GetExtension(x) == \".jpg\" || Path.GetExtension(x) == \".png\");\n",
    "\n",
    "            return useFolderNameasLabel\n",
    "                ? imagesPath.Select(imagePath => (imagePath, Directory.GetParent(imagePath).Name))\n",
    "                : imagesPath.Select(imagePath =>\n",
    "                {\n",
    "                    var label = Path.GetFileName(imagePath);\n",
    "                    for (var index = 0; index < label.Length; index++)\n",
    "                    {\n",
    "                        if (!char.IsLetter(label[index]))\n",
    "                        {\n",
    "                            label = label.Substring(0, index);\n",
    "                            break;\n",
    "                        }\n",
    "                    }\n",
    "                    return (imagePath, label);\n",
    "  });\n",
    "}\n",
    "\n",
    "        public static IEnumerable<ImagePredictionInput> LoadLocalImages(\n",
    "            string folder,\n",
    "            bool useFolderNameAsLabel = true)\n",
    "        {\n",
    "            return LoadImagesFromDirectory(folder, useFolderNameAsLabel)\n",
    "                .Select(x => new ImagePredictionInput(\n",
    "                    image: File.ReadAllBytes(x.imagePath),\n",
    "                    label: x.label,\n",
    "                    imageFileName: Path.GetFileName(x.imagePath)));\n",
    "        }\n",
    "\n",
    "public class ImagePredictionOutput\n",
    "    {\n",
    "        [ColumnName(\"Score\")]\n",
    "        public float[] Score;\n",
    "\n",
    "        [ColumnName(\"PredictedLabel\")]\n",
    "        public string PredictedLabel;\n",
    "    }\n",
    "\n",
    " public class ImageData\n",
    "{\n",
    "    public ImageData(string imagePath, string label)\n",
    "    {\n",
    "        ImagePath = imagePath;\n",
    "        Label = label;\n",
    "    }\n",
    "\n",
    "    public readonly string ImagePath;\n",
    "    public readonly string Label;\n",
    "}\n",
    "\n",
    "  public class ImagePredictionInput\n",
    "    {\n",
    "        public ImagePredictionInput()\n",
    "        {\n",
    "        }\n",
    "\n",
    "        public ImagePredictionInput(byte[] image, string label, string imageFileName)\n",
    "        {\n",
    "            Image = image;\n",
    "            Label = label;\n",
    "            ImageFileName = imageFileName;\n",
    "        }\n",
    "\n",
    "        public byte[] Image {get;set;}\n",
    "\n",
    "        public string Label {get;set;}\n",
    "\n",
    "        public string ImageFileName {get;set;}\n",
    "    }\n",
    "\n",
    "private static void TrySinglePrediction(string imagesFolderPathForPredictions, MLContext mlContext, ITransformer trainedModel)\n",
    "{\n",
    "    var predictionEngine = mlContext.Model\n",
    "        .CreatePredictionEngine<ImagePredictionInput, ImagePredictionOutput>(trainedModel);\n",
    "    var testImages = LoadLocalImages(\n",
    "            imagesFolderPathForPredictions, false);\n",
    "    var imageToPredict = testImages.First();\n",
    "    var prediction = predictionEngine.Predict(imageToPredict);\n",
    "\n",
    "    Console.WriteLine(\n",
    "                $\"Image Filename : [{imageToPredict.ImageFileName}], \" +\n",
    "                $\"Scores : [{string.Join(\",\", prediction.Score.OfType<float>().ToList().Max())}], \" +\n",
    "                $\"Predicted Label : {prediction.PredictedLabel}\");\n",
    "}\n",
    "\n",
    "const string initialDataset = @\"C:\\Users\\luisf\\Downloads\\Machine Learning personal dataset\\Machine Learning personal dataset\";\n",
    "const string initialReducedDataset =  @\"C:\\Users\\luisf\\Downloads\\Machine Learning personal dataset - Cópia\\Machine Learning personal dataset\";\n",
    "const string augmentedDataset = @\"C:\\Users\\luisf\\Downloads\\Machine Learning personal dataset AUG\";\n",
    "const string finalDataset = @\"C:\\Users\\luisf\\Downloads\\Machine Learning personal Final\\Machine Learning personal dataset\";\n",
    "\n",
    "var mlContext = new MLContext(seed: 1);"
   ]
  },
  {
   "cell_type": "markdown",
   "metadata": {},
   "source": [
    "----\n",
    "\n",
    "## First, the initial dataset was tested to understand what prediction could be retrieved from it using the pre-trained model ResNetv50"
   ]
  },
  {
   "cell_type": "code",
   "execution_count": 4,
   "metadata": {},
   "outputs": [
    {
     "name": "stdout",
     "output_type": "stream",
     "text": [
      "Saver not created because there are no variables in the graph to restore\n",
      "Saver not created because there are no variables in the graph to restore\n",
      "Restoring parameters from C:\\Users\\luisf\\AppData\\Local\\Temp\\23lj5dus.l2e\\custom_retrained_model_based_on_resnet_v2_50_299.meta\n",
      "Froze 2 variables. \n",
      "Converted 2 variables to const ops. \n",
      "Micro accuracy: 0,47161572052401746\n",
      "Macro accuracy: 0,33066534914361\n"
     ]
    }
   ],
   "source": [
    "// Load the initial dataset and shuffle so it'll be better balanced\n",
    "IEnumerable<ImageData> images = LoadImages(folder: initialDataset, useFolderNameAsLabel: true);\n",
    "IDataView fullImagesDataset = mlContext.Data.LoadFromEnumerable(images);\n",
    "IDataView shuffledFullImageFilePathsDataset = mlContext.Data.ShuffleRows(fullImagesDataset);\n",
    "\n",
    "// Load Images with in-memory type within the IDataView and Transform Labels to Keys\n",
    "IDataView shuffledFullImagesDataset = mlContext.Transforms.Conversion.\n",
    "    MapValueToKey(outputColumnName: \"LabelAsKey\", inputColumnName: \"Label\", keyOrdinality: KeyOrdinality.ByValue)\n",
    "    .Append(mlContext.Transforms.LoadRawImageBytes(\n",
    "        outputColumnName: \"Image\",\n",
    "        imageFolder: initialDataset,\n",
    "        inputColumnName: \"ImagePath\"))\n",
    "    .Fit(shuffledFullImageFilePathsDataset)\n",
    "    .Transform(shuffledFullImageFilePathsDataset);\n",
    "\n",
    " // Split the data 80:20 into train and test sets, train and evaluate.\n",
    "var trainTestData = mlContext.Data.TrainTestSplit(shuffledFullImagesDataset, testFraction: 0.2);\n",
    "IDataView trainDataView = trainTestData.TrainSet;\n",
    "IDataView testDataView = trainTestData.TestSet;\n",
    "\n",
    "//Define the model's training pipeline\n",
    "var pipeline = mlContext.MulticlassClassification.Trainers\n",
    ".ImageClassification(featureColumnName: \"Image\",\n",
    "                     labelColumnName: \"LabelAsKey\",\n",
    "                     validationSet: testDataView)\n",
    "    .Append(mlContext.Transforms.Conversion.MapKeyToValue(outputColumnName: \"PredictedLabel\",\n",
    "                                                          inputColumnName: \"PredictedLabel\"));\n",
    "\n",
    "//Train\n",
    "ITransformer trainedModel = pipeline.Fit(trainDataView);\n",
    "\n",
    "//Evaluate\n",
    "var predictionsDataView = trainedModel.Transform(testDataView);\n",
    "var metrics = mlContext.MulticlassClassification.Evaluate(predictionsDataView, labelColumnName:\"LabelAsKey\", predictedLabelColumnName: \"PredictedLabel\");\n",
    "\n",
    "Console.WriteLine($\"Micro accuracy: {metrics.MicroAccuracy}\");\n",
    "Console.WriteLine($\"Macro accuracy: {metrics.MacroAccuracy}\");\n",
    "           "
   ]
  },
  {
   "cell_type": "code",
   "execution_count": 5,
   "metadata": {},
   "outputs": [
    {
     "data": {
      "text/html": [
       "<table><thead><tr><th>LogLoss</th><th>LogLossReduction</th><th>MacroAccuracy</th><th>MicroAccuracy</th><th>TopKAccuracy</th><th>TopKPredictionCount</th><th>TopKAccuracyForAllK</th><th>PerClassLogLoss</th><th>ConfusionMatrix</th></tr></thead><tbody><tr><td><div class=\"dni-plaintext\">2.712796675191877</div></td><td><div class=\"dni-plaintext\">0.326177994991624</div></td><td><div class=\"dni-plaintext\">0.33066534914361</div></td><td><div class=\"dni-plaintext\">0.47161572052401746</div></td><td><div class=\"dni-plaintext\">0</div></td><td><div class=\"dni-plaintext\">0</div></td><td><div class=\"dni-plaintext\">&lt;null&gt;</div></td><td><div class=\"dni-plaintext\">[ 0.36813301618152505, 4.547832096429718, 0, 2.566519547728572, 0, 4.0956394021024645, 1.239876431725156, 0, 0, 10.64014140736494, 0, 0, 0.9248550278154412, 0, 3.3035110456362453, 0, 10.547318905846522, 0, 0, 0 ... (155 more) ]</div></td><td><div class=\"dni-plaintext\">{ Microsoft.ML.Data.ConfusionMatrix: PerClassPrecision: [ 0.5, 0, 0, 0, 0, 0, 1, 0, 0, 0, 0, 0, 0.3333333333333333, 0, 0, 0, 0, 0, 0, 0 ... (155 more) ], PerClassRecall: [ 1, 0, 0, 0, 0, 0, 1, 0, 0, 0, 0, 0, 0.6666666666666666, 0, 0, 0, 0, 0, 0, 0 ... (155 more) ], Counts: [ [ 1, 0, 0, 0, 0, 0, 0, 0, 0, 0, 0, 0, 0, 0, 0, 0, 0, 0, 0, 0 ... (155 more) ], [ 0, 0, 0, 0, 0, 0, 0, 0, 0, 0, 0, 0, 0, 0, 0, 0, 0, 0, 0, 0 ... (155 more) ], [ 0, 0, 0, 0, 0, 0, 0, 0, 0, 0, 0, 0, 0, 0, 0, 0, 0, 0, 0, 0 ... (155 more) ], [ 0, 0, 0, 0, 0, 0, 0, 0, 0, 0, 0, 0, 0, 0, 0, 0, 0, 0, 0, 0 ... (155 more) ], [ 0, 0, 0, 0, 0, 0, 0, 0, 0, 0, 0, 0, 0, 0, 0, 0, 0, 0, 0, 0 ... (155 more) ], [ 0, 0, 0, 0, 0, 0, 0, 0, 0, 0, 0, 0, 0, 0, 0, 0, 0, 0, 0, 0 ... (155 more) ], [ 0, 0, 0, 0, 0, 0, 1, 0, 0, 0, 0, 0, 0, 0, 0, 0, 0, 0, 0, 0 ... (155 more) ], [ 0, 0, 0, 0, 0, 0, 0, 0, 0, 0, 0, 0, 0, 0, 0, 0, 0, 0, 0, 0 ... (155 more) ], [ 0, 0, 0, 0, 0, 0, 0, 0, 0, 0, 0, 0, 0, 0, 0, 0, 0, 0, 0, 0 ... (155 more) ], [ 0, 0, 0, 0, 0, 0, 0, 0, 0, 0, 0, 0, 0, 0, 0, 0, 0, 0, 0, 0 ... (155 more) ], [ 0, 0, 0, 0, 0, 0, 0, 0, 0, 0, 0, 0, 0, 0, 0, 0, 0, 0, 0, 0 ... (155 more) ], [ 0, 0, 0, 0, 0, 0, 0, 0, 0, 0, 0, 0, 0, 0, 0, 0, 0, 0, 0, 0 ... (155 more) ], [ 0, 0, 0, 0, 0, 0, 0, 0, 0, 0, 0, 0, 2, 0, 0, 0, 0, 0, 0, 0 ... (155 more) ], [ 0, 0, 0, 0, 0, 0, 0, 0, 0, 0, 0, 0, 0, 0, 0, 0, 0, 0, 0, 0 ... (155 more) ], [ 0, 0, 0, 0, 0, 0, 0, 0, 0, 0, 0, 0, 0, 0, 0, 0, 0, 0, 0, 0 ... (155 more) ], [ 0, 0, 0, 0, 0, 0, 0, 0, 0, 0, 0, 0, 0, 0, 0, 0, 0, 0, 0, 0 ... (155 more) ], [ 0, 0, 0, 0, 0, 0, 0, 0, 0, 0, 0, 0, 0, 0, 0, 0, 0, 0, 0, 0 ... (155 more) ], [ 0, 0, 0, 0, 0, 0, 0, 0, 0, 0, 0, 0, 0, 0, 0, 0, 0, 0, 0, 0 ... (155 more) ], [ 0, 0, 0, 0, 0, 0, 0, 0, 0, 0, 0, 0, 0, 0, 0, 0, 0, 0, 0, 0 ... (155 more) ], [ 0, 0, 0, 0, 0, 0, 0, 0, 0, 0, 0, 0, 0, 0, 0, 0, 0, 0, 0, 0 ... (155 more) ] ... (155 more) ], NumberOfClasses: 175 }</div></td></tr></tbody></table>"
      ]
     },
     "metadata": {},
     "output_type": "display_data"
    }
   ],
   "source": [
    "display(metrics);"
   ]
  },
  {
   "cell_type": "markdown",
   "metadata": {},
   "source": [
    "----\n",
    "\n",
    "## After testing with the first model, it is possible to see that a low accuracy is achieved, possibly because the model was trained with about 120 label where the images were below 5, which means that such amount of images could result in overfitting, for example, one flower had only two images and both in a vase, when trying to predict this flower , if an image had no vase it would fail to predict this was the actual flower or present a lower accuracy than if the plant was in a vase. The macro accuracy being way lower than the micro accuracy, shows that there is some class imbalance, which proves that some labels are doing much better than others.\n",
    "\n",
    "## The decision was to reduce the dataset and keep the labels where there is at least 5 images of a plant, reducing it from 181 labels to about 61 labels."
   ]
  },
  {
   "cell_type": "code",
   "execution_count": 6,
   "metadata": {},
   "outputs": [
    {
     "name": "stdout",
     "output_type": "stream",
     "text": [
      "Saver not created because there are no variables in the graph to restore\n",
      "Saver not created because there are no variables in the graph to restore\n",
      "Restoring parameters from C:\\Users\\luisf\\AppData\\Local\\Temp\\orccskky.nzz\\custom_retrained_model_based_on_resnet_v2_50_299.meta\n",
      "Froze 2 variables. \n",
      "Converted 2 variables to const ops. \n",
      "Micro accuracy: 0,5792349726775956\n",
      "Macro accuracy: 0,5273421325051759\n"
     ]
    }
   ],
   "source": [
    "IEnumerable<ImageData> images = LoadImages(folder: initialReducedDataset, useFolderNameAsLabel: true);\n",
    "IDataView fullImagesDataset = mlContext.Data.LoadFromEnumerable(images);\n",
    "IDataView shuffledFullImageFilePathsDataset = mlContext.Data.ShuffleRows(fullImagesDataset);\n",
    "\n",
    "IDataView shuffledFullImagesDataset = mlContext.Transforms.Conversion.\n",
    "    MapValueToKey(outputColumnName: \"LabelAsKey\", inputColumnName: \"Label\", keyOrdinality: KeyOrdinality.ByValue)\n",
    "    .Append(mlContext.Transforms.LoadRawImageBytes(\n",
    "        outputColumnName: \"Image\",\n",
    "        imageFolder: initialDataset,\n",
    "        inputColumnName: \"ImagePath\"))\n",
    "    .Fit(shuffledFullImageFilePathsDataset)\n",
    "    .Transform(shuffledFullImageFilePathsDataset);\n",
    "\n",
    "var trainTestData = mlContext.Data.TrainTestSplit(shuffledFullImagesDataset, testFraction: 0.2);\n",
    "IDataView trainDataView = trainTestData.TrainSet;\n",
    "IDataView testDataView = trainTestData.TestSet;\n",
    "\n",
    "var pipeline = mlContext.MulticlassClassification.Trainers\n",
    ".ImageClassification(featureColumnName: \"Image\",\n",
    "                     labelColumnName: \"LabelAsKey\",\n",
    "                     validationSet: testDataView)\n",
    "    .Append(mlContext.Transforms.Conversion.MapKeyToValue(outputColumnName: \"PredictedLabel\",\n",
    "                                                          inputColumnName: \"PredictedLabel\"));\n",
    "\n",
    "ITransformer trainedModelResnet = pipeline.Fit(trainDataView);\n",
    "\n",
    "var predictionsDataView = trainedModelResnet.Transform(testDataView);\n",
    "var metrics = mlContext.MulticlassClassification.Evaluate(predictionsDataView, labelColumnName:\"LabelAsKey\", predictedLabelColumnName: \"PredictedLabel\");\n",
    "\n",
    "Console.WriteLine($\"Micro accuracy: {metrics.MicroAccuracy}\");\n",
    "Console.WriteLine($\"Macro accuracy: {metrics.MacroAccuracy}\");"
   ]
  },
  {
   "cell_type": "markdown",
   "metadata": {},
   "source": [
    "---- \n",
    "\n",
    "### Tuning hyperparameters to enhance the model"
   ]
  },
  {
   "cell_type": "markdown",
   "metadata": {},
   "source": [
    "### Pre-trained Model choice fell upon MobilenetV2 since it reaches a compromise between performance and accuracy, in this case, it presented a higher accuracy than ResNet50 v2 as it can seen below: (ResNet was used so far, since it is the standard on ML.Net)\n",
    "### MobilenetV2 is less heavy in size and also performs faster, about half the time for both training and predicting. \n",
    "###\n",
    "### For the learning rate, it 0.01 seemed to have the best prediction, after both 0.001 and 0.0001 were tested."
   ]
  },
  {
   "cell_type": "code",
   "execution_count": 7,
   "metadata": {},
   "outputs": [
    {
     "name": "stdout",
     "output_type": "stream",
     "text": [
      "Saver not created because there are no variables in the graph to restore\n",
      "Saver not created because there are no variables in the graph to restore\n",
      "Restoring parameters from C:\\Users\\luisf\\AppData\\Local\\Temp\\jr3imhai.jng\\custom_retrained_model_based_on_mobilenet_v2.meta\n",
      "Froze 2 variables. \n",
      "Converted 2 variables to const ops. \n"
     ]
    }
   ],
   "source": [
    "IEnumerable<ImageData> images = LoadImages(folder: initialReducedDataset, useFolderNameAsLabel: true);\n",
    "IDataView fullImagesDataset = mlContext.Data.LoadFromEnumerable(images);\n",
    "IDataView shuffledFullImageFilePathsDataset = mlContext.Data.ShuffleRows(fullImagesDataset);\n",
    "\n",
    "IDataView shuffledFullImagesDataset = mlContext.Transforms.Conversion.\n",
    "    MapValueToKey(outputColumnName: \"LabelAsKey\", inputColumnName: \"Label\", keyOrdinality: KeyOrdinality.ByValue)\n",
    "    .Append(mlContext.Transforms.LoadRawImageBytes(\n",
    "        outputColumnName: \"Image\",\n",
    "        imageFolder: initialDataset,\n",
    "        inputColumnName: \"ImagePath\"))\n",
    "    .Fit(shuffledFullImageFilePathsDataset)\n",
    "    .Transform(shuffledFullImageFilePathsDataset);\n",
    "\n",
    "var trainTestData = mlContext.Data.TrainTestSplit(shuffledFullImagesDataset, testFraction: 0.2);\n",
    "IDataView trainDataView = trainTestData.TrainSet;\n",
    "IDataView testDataView = trainTestData.TestSet;\n",
    "\n",
    "var options = new ImageClassificationTrainer.Options()\n",
    " {\n",
    "    FeatureColumnName = \"Image\",\n",
    "    LabelColumnName = \"LabelAsKey\",\n",
    "    Arch = ImageClassificationTrainer.Architecture.MobilenetV2,\n",
    "    Epoch = 50,\n",
    "    BatchSize = 10,\n",
    "    LearningRate = 0.01f,\n",
    "    ValidationSet = testDataView\n",
    "};\n",
    "\n",
    "var pipeline = mlContext.MulticlassClassification.Trainers.ImageClassification(options)\n",
    "        .Append(mlContext.Transforms.Conversion.MapKeyToValue(\n",
    "           outputColumnName: \"PredictedLabel\",\n",
    "           inputColumnName: \"PredictedLabel\"));\n",
    "\n",
    "ITransformer trainedModelMobilenet = pipeline.Fit(trainDataView);\n",
    "\n",
    "var predictionsDataView = trainedModelMobilenet.Transform(testDataView);\n",
    "var metrics1 = mlContext.MulticlassClassification.Evaluate(predictionsDataView, labelColumnName:\"LabelAsKey\", predictedLabelColumnName: \"PredictedLabel\");"
   ]
  },
  {
   "cell_type": "code",
   "execution_count": 8,
   "metadata": {},
   "outputs": [
    {
     "data": {
      "text/html": [
       "<table><thead><tr><th>LogLoss</th><th>LogLossReduction</th><th>MacroAccuracy</th><th>MicroAccuracy</th><th>TopKAccuracy</th><th>TopKPredictionCount</th><th>TopKAccuracyForAllK</th><th>PerClassLogLoss</th><th>ConfusionMatrix</th></tr></thead><tbody><tr><td><div class=\"dni-plaintext\">1.1737705547602693</div></td><td><div class=\"dni-plaintext\">0.6632914222570694</div></td><td><div class=\"dni-plaintext\">0.648350500074638</div></td><td><div class=\"dni-plaintext\">0.7049180327868853</div></td><td><div class=\"dni-plaintext\">0</div></td><td><div class=\"dni-plaintext\">0</div></td><td><div class=\"dni-plaintext\">&lt;null&gt;</div></td><td><div class=\"dni-plaintext\">[ 0.1608556668929925, 0.25651922065060995, 2.2576713171020333, 0, 1.8445085740779537, 6.6854746861317516, 0.7277736990958644, 1.384780834001203, 0, 0.332261426768962, 3.472820753735914, 0.2840572173333149, 0.5363352768772779, 0, 2.349795337708791, 0, 2.9026964386525718, 2.7655315673679914, 0.09544686259546195, 0 ... (38 more) ]</div></td><td><div class=\"dni-plaintext\">{ Microsoft.ML.Data.ConfusionMatrix: PerClassPrecision: [ 0.75, 0.75, 1, 0, 0, 0, 0.8333333333333334, 0.5, 0, 0.6923076923076923, 0, 1, 0.42857142857142855, 0, 0, 0, 1, 1, 0.3333333333333333, 0 ... (38 more) ], PerClassRecall: [ 1, 1, 0.5, 0, 0, 0, 1, 0.3333333333333333, 0, 0.9, 0, 1, 0.75, 0, 0, 0, 0.5, 0.3333333333333333, 1, 0 ... (38 more) ], Counts: [ [ 3, 0, 0, 0, 0, 0, 0, 0, 0, 0, 0, 0, 0, 0, 0, 0, 0, 0, 0, 0 ... (38 more) ], [ 0, 3, 0, 0, 0, 0, 0, 0, 0, 0, 0, 0, 0, 0, 0, 0, 0, 0, 0, 0 ... (38 more) ], [ 1, 0, 2, 0, 0, 0, 0, 1, 0, 0, 0, 0, 0, 0, 0, 0, 0, 0, 0, 0 ... (38 more) ], [ 0, 0, 0, 0, 0, 0, 0, 0, 0, 0, 0, 0, 0, 0, 0, 0, 0, 0, 0, 0 ... (38 more) ], [ 0, 0, 0, 0, 0, 0, 0, 0, 0, 0, 0, 0, 0, 0, 0, 0, 0, 0, 0, 0 ... (38 more) ], [ 0, 0, 0, 0, 0, 0, 0, 0, 0, 0, 0, 0, 1, 0, 0, 0, 0, 0, 0, 0 ... (38 more) ], [ 0, 0, 0, 0, 0, 0, 5, 0, 0, 0, 0, 0, 0, 0, 0, 0, 0, 0, 0, 0 ... (38 more) ], [ 0, 0, 0, 0, 0, 0, 0, 1, 0, 0, 0, 0, 0, 0, 0, 0, 0, 0, 1, 0 ... (38 more) ], [ 0, 0, 0, 0, 0, 0, 0, 0, 0, 0, 0, 0, 0, 0, 0, 0, 0, 0, 0, 0 ... (38 more) ], [ 0, 0, 0, 0, 0, 0, 0, 0, 0, 9, 0, 0, 0, 0, 0, 0, 0, 0, 0, 0 ... (38 more) ], [ 0, 0, 0, 0, 0, 0, 0, 0, 0, 0, 0, 0, 0, 0, 0, 0, 0, 0, 0, 0 ... (38 more) ], [ 0, 0, 0, 0, 0, 0, 0, 0, 0, 0, 0, 1, 0, 0, 0, 0, 0, 0, 0, 0 ... (38 more) ], [ 0, 0, 0, 0, 0, 0, 0, 0, 0, 0, 0, 0, 3, 0, 0, 0, 0, 0, 0, 0 ... (38 more) ], [ 0, 0, 0, 0, 0, 0, 0, 0, 0, 0, 0, 0, 0, 0, 0, 0, 0, 0, 0, 0 ... (38 more) ], [ 0, 0, 0, 0, 0, 0, 0, 0, 0, 0, 0, 0, 0, 0, 0, 0, 0, 0, 0, 0 ... (38 more) ], [ 0, 0, 0, 0, 0, 0, 0, 0, 0, 0, 0, 0, 0, 0, 0, 0, 0, 0, 0, 0 ... (38 more) ], [ 0, 0, 0, 0, 0, 0, 0, 0, 0, 1, 0, 0, 0, 0, 0, 0, 1, 0, 0, 0 ... (38 more) ], [ 0, 0, 0, 0, 0, 0, 0, 0, 0, 0, 1, 0, 0, 0, 0, 0, 0, 1, 0, 0 ... (38 more) ], [ 0, 0, 0, 0, 0, 0, 0, 0, 0, 0, 0, 0, 0, 0, 0, 0, 0, 0, 1, 0 ... (38 more) ], [ 0, 0, 0, 0, 0, 0, 0, 0, 0, 0, 0, 0, 0, 0, 0, 0, 0, 0, 0, 0 ... (38 more) ] ... (38 more) ], NumberOfClasses: 58 }</div></td></tr></tbody></table>"
      ]
     },
     "execution_count": 8,
     "metadata": {},
     "output_type": "execute_result"
    }
   ],
   "source": [
    "metrics1"
   ]
  },
  {
   "cell_type": "markdown",
   "metadata": {},
   "source": [
    "### The accuracy is still low, since the images are not that varied in some classes, so the next step was to process the data inside the dataset and multiply the images, such as rotating them and decreasing the quality to improve the accuracy when different images are evaluated. This step was performed in the project DataManipulation that contains the methods to perform this, consisting of flipping, rotating, mirroring and adjusting the quality of the image."
   ]
  },
  {
   "cell_type": "markdown",
   "metadata": {},
   "source": [
    "### The whole reason behind doing the data manipulation is two-fold. The first reason is to scale our dataset as collecting data is and always will be a hot topic for machine learning and the second, but nonetheless important, reason is that playing with the image in this sort of way allows the neural network to distill the truly useful points in the image - for instance the positionining of the rose petals should not matter nor the quality of the picture. This is much akin to feeding a machine learning algorithm a bunch of left facing cars that we can call car A and then feeding it any other car that's not car A and if it learned that the left facing characteristic is only for car A it will predict only it. This was something that we wanted to alleviate using manipulation - in a scenario where our data would be in the 7 digit numbers this would not be as needed."
   ]
  },
  {
   "cell_type": "markdown",
   "metadata": {},
   "source": [
    "### Then the new model is trained with the chosen pre-trained model but also with the default one (ResNetv2 50) to compare the difference between them. It is possible to see that the one using MobilenetV2 has a slightly better accuracy and a lower log loss.\n",
    "### The data manipulation proved to be efficient, raising the accuracy from about 65% to around 99,5% on Mobilenet v2."
   ]
  },
  {
   "cell_type": "code",
   "execution_count": 9,
   "metadata": {},
   "outputs": [
    {
     "name": "stdout",
     "output_type": "stream",
     "text": [
      "Saver not created because there are no variables in the graph to restore\n",
      "Saver not created because there are no variables in the graph to restore\n",
      "Restoring parameters from C:\\Users\\luisf\\AppData\\Local\\Temp\\4eexd5b3.0h5\\custom_retrained_model_based_on_mobilenet_v2.meta\n",
      "Froze 2 variables. \n",
      "Converted 2 variables to const ops. \n"
     ]
    }
   ],
   "source": [
    "IEnumerable<ImageData> images = LoadImages(folder: finalDataset, useFolderNameAsLabel: true);\n",
    "IDataView fullImagesDataset = mlContext.Data.LoadFromEnumerable(images);\n",
    "IDataView shuffledFullImageFilePathsDataset = mlContext.Data.ShuffleRows(fullImagesDataset);\n",
    "\n",
    "IDataView shuffledFullImagesDataset = mlContext.Transforms.Conversion.\n",
    "    MapValueToKey(outputColumnName: \"LabelAsKey\", inputColumnName: \"Label\", keyOrdinality: KeyOrdinality.ByValue)\n",
    "    .Append(mlContext.Transforms.LoadRawImageBytes(\n",
    "        outputColumnName: \"Image\",\n",
    "        imageFolder: finalDataset,\n",
    "        inputColumnName: \"ImagePath\"))\n",
    "    .Fit(shuffledFullImageFilePathsDataset)\n",
    "    .Transform(shuffledFullImageFilePathsDataset);\n",
    "\n",
    "var trainTestData = mlContext.Data.TrainTestSplit(shuffledFullImagesDataset, testFraction: 0.2);\n",
    "IDataView trainDataView = trainTestData.TrainSet;\n",
    "IDataView testDataView = trainTestData.TestSet;\n",
    "\n",
    "var options = new ImageClassificationTrainer.Options()\n",
    " {\n",
    "    FeatureColumnName = \"Image\",\n",
    "    LabelColumnName = \"LabelAsKey\",\n",
    "    Arch = ImageClassificationTrainer.Architecture.MobilenetV2,\n",
    "    Epoch = 50,       //100\n",
    "    BatchSize = 10,\n",
    "    LearningRate = 0.01f,\n",
    "    ValidationSet = testDataView\n",
    "};\n",
    "\n",
    "var pipeline = mlContext.MulticlassClassification.Trainers.ImageClassification(options)\n",
    "        .Append(mlContext.Transforms.Conversion.MapKeyToValue(\n",
    "           outputColumnName: \"PredictedLabel\",\n",
    "           inputColumnName: \"PredictedLabel\"));\n",
    "\n",
    "ITransformer trainedModelMobilenetDataMan = pipeline.Fit(trainDataView);\n",
    "\n",
    "var predictionsDataView = trainedModelMobilenetDataMan.Transform(testDataView);\n",
    "var metrics2 = mlContext.MulticlassClassification.Evaluate(predictionsDataView, labelColumnName:\"LabelAsKey\", predictedLabelColumnName: \"PredictedLabel\");"
   ]
  },
  {
   "cell_type": "code",
   "execution_count": 10,
   "metadata": {},
   "outputs": [
    {
     "data": {
      "text/html": [
       "<table><thead><tr><th>LogLoss</th><th>LogLossReduction</th><th>MacroAccuracy</th><th>MicroAccuracy</th><th>TopKAccuracy</th><th>TopKPredictionCount</th><th>TopKAccuracyForAllK</th><th>PerClassLogLoss</th><th>ConfusionMatrix</th></tr></thead><tbody><tr><td><div class=\"dni-plaintext\">0.027938287411030518</div></td><td><div class=\"dni-plaintext\">0.9925660305550863</div></td><td><div class=\"dni-plaintext\">0.9909150094713843</div></td><td><div class=\"dni-plaintext\">0.9913132345426674</div></td><td><div class=\"dni-plaintext\">0</div></td><td><div class=\"dni-plaintext\">0</div></td><td><div class=\"dni-plaintext\">&lt;null&gt;</div></td><td><div class=\"dni-plaintext\">[ 0.017591218290972238, 0.005978731595138657, 0.013744333365584057, 0.1499154265946054, 0.004811479221092493, 0.07750929859822621, 0.009219002966385677, 0.13674425032859366, 0.03290198601511861, 0.0059070260931522135, 0.014082153718429986, 0.03696582765489416, 0.004920939503376701, 0.017055632573227564, 0.03521488771068378, 0.03414178015938873, 0.06183768922734698, 0.008068498794490314, 0.015629979979705135, 0.01835390657302592 ... (41 more) ]</div></td><td><div class=\"dni-plaintext\">{ Microsoft.ML.Data.ConfusionMatrix: PerClassPrecision: [ 1, 1, 1, 0.9819819819819819, 1, 1, 1, 0.9763779527559056, 0.9647577092511013, 1, 1, 1, 1, 0.9736842105263158, 1, 0.8048780487804879, 1, 1, 1, 1 ... (41 more) ], PerClassRecall: [ 1, 1, 1, 0.9316239316239316, 1, 0.9791666666666666, 1, 0.9465648854961832, 0.9909502262443439, 1, 1, 1, 1, 0.9946236559139785, 1, 1, 1, 1, 1, 1 ... (41 more) ], Counts: [ [ 109, 0, 0, 0, 0, 0, 0, 0, 0, 0, 0, 0, 0, 0, 0, 0, 0, 0, 0, 0 ... (41 more) ], [ 0, 33, 0, 0, 0, 0, 0, 0, 0, 0, 0, 0, 0, 0, 0, 0, 0, 0, 0, 0 ... (41 more) ], [ 0, 0, 104, 0, 0, 0, 0, 0, 0, 0, 0, 0, 0, 0, 0, 0, 0, 0, 0, 0 ... (41 more) ], [ 0, 0, 0, 109, 0, 0, 0, 0, 8, 0, 0, 0, 0, 0, 0, 0, 0, 0, 0, 0 ... (41 more) ], [ 0, 0, 0, 0, 31, 0, 0, 0, 0, 0, 0, 0, 0, 0, 0, 0, 0, 0, 0, 0 ... (41 more) ], [ 0, 0, 0, 0, 0, 47, 0, 0, 0, 0, 0, 0, 0, 0, 0, 0, 0, 0, 0, 0 ... (41 more) ], [ 0, 0, 0, 0, 0, 0, 43, 0, 0, 0, 0, 0, 0, 0, 0, 0, 0, 0, 0, 0 ... (41 more) ], [ 0, 0, 0, 0, 0, 0, 0, 124, 0, 0, 0, 0, 0, 0, 0, 0, 0, 0, 0, 0 ... (41 more) ], [ 0, 0, 0, 2, 0, 0, 0, 0, 219, 0, 0, 0, 0, 0, 0, 0, 0, 0, 0, 0 ... (41 more) ], [ 0, 0, 0, 0, 0, 0, 0, 0, 0, 38, 0, 0, 0, 0, 0, 0, 0, 0, 0, 0 ... (41 more) ], [ 0, 0, 0, 0, 0, 0, 0, 0, 0, 0, 352, 0, 0, 0, 0, 0, 0, 0, 0, 0 ... (41 more) ], [ 0, 0, 0, 0, 0, 0, 0, 0, 0, 0, 0, 56, 0, 0, 0, 0, 0, 0, 0, 0 ... (41 more) ], [ 0, 0, 0, 0, 0, 0, 0, 0, 0, 0, 0, 0, 25, 0, 0, 0, 0, 0, 0, 0 ... (41 more) ], [ 0, 0, 0, 0, 0, 0, 0, 0, 0, 0, 0, 0, 0, 185, 0, 0, 0, 0, 0, 0 ... (41 more) ], [ 0, 0, 0, 0, 0, 0, 0, 0, 0, 0, 0, 0, 0, 0, 39, 0, 0, 0, 0, 0 ... (41 more) ], [ 0, 0, 0, 0, 0, 0, 0, 0, 0, 0, 0, 0, 0, 0, 0, 33, 0, 0, 0, 0 ... (41 more) ], [ 0, 0, 0, 0, 0, 0, 0, 0, 0, 0, 0, 0, 0, 0, 0, 0, 40, 0, 0, 0 ... (41 more) ], [ 0, 0, 0, 0, 0, 0, 0, 0, 0, 0, 0, 0, 0, 0, 0, 0, 0, 52, 0, 0 ... (41 more) ], [ 0, 0, 0, 0, 0, 0, 0, 0, 0, 0, 0, 0, 0, 0, 0, 0, 0, 0, 113, 0 ... (41 more) ], [ 0, 0, 0, 0, 0, 0, 0, 0, 0, 0, 0, 0, 0, 0, 0, 0, 0, 0, 0, 65 ... (41 more) ] ... (41 more) ], NumberOfClasses: 61 }</div></td></tr></tbody></table>"
      ]
     },
     "execution_count": 10,
     "metadata": {},
     "output_type": "execute_result"
    }
   ],
   "source": [
    "metrics2"
   ]
  },
  {
   "cell_type": "code",
   "execution_count": 12,
   "metadata": {},
   "outputs": [
    {
     "name": "stdout",
     "output_type": "stream",
     "text": [
      "Saver not created because there are no variables in the graph to restore\n",
      "Saver not created because there are no variables in the graph to restore\n",
      "Restoring parameters from C:\\Users\\luisf\\AppData\\Local\\Temp\\2sbiytvf.red\\custom_retrained_model_based_on_resnet_v2_50_299.meta\n",
      "Froze 2 variables. \n",
      "Converted 2 variables to const ops. \n"
     ]
    }
   ],
   "source": [
    "IEnumerable<ImageData> images = LoadImages(folder: finalDataset, useFolderNameAsLabel: true);\n",
    "IDataView fullImagesDataset = mlContext.Data.LoadFromEnumerable(images);\n",
    "IDataView shuffledFullImageFilePathsDataset = mlContext.Data.ShuffleRows(fullImagesDataset);\n",
    "\n",
    "IDataView shuffledFullImagesDataset = mlContext.Transforms.Conversion.\n",
    "    MapValueToKey(outputColumnName: \"LabelAsKey\", inputColumnName: \"Label\", keyOrdinality: KeyOrdinality.ByValue)\n",
    "    .Append(mlContext.Transforms.LoadRawImageBytes(\n",
    "        outputColumnName: \"Image\",\n",
    "        imageFolder: finalDataset,\n",
    "        inputColumnName: \"ImagePath\"))\n",
    "    .Fit(shuffledFullImageFilePathsDataset)\n",
    "    .Transform(shuffledFullImageFilePathsDataset);\n",
    "\n",
    "var trainTestData = mlContext.Data.TrainTestSplit(shuffledFullImagesDataset, testFraction: 0.2);\n",
    "IDataView trainDataView = trainTestData.TrainSet;\n",
    "IDataView testDataView = trainTestData.TestSet;\n",
    "\n",
    "var pipeline = mlContext.MulticlassClassification.Trainers\n",
    ".ImageClassification(featureColumnName: \"Image\",\n",
    "                     labelColumnName: \"LabelAsKey\",\n",
    "                     validationSet: testDataView)\n",
    "    .Append(mlContext.Transforms.Conversion.MapKeyToValue(outputColumnName: \"PredictedLabel\",\n",
    "                                                          inputColumnName: \"PredictedLabel\"));\n",
    "\n",
    "ITransformer trainedModelResnetDataMan = pipeline.Fit(trainDataView);\n",
    "\n",
    "var predictionsDataView = trainedModelResnetDataMan.Transform(testDataView);\n",
    "var metrics3 = mlContext.MulticlassClassification.Evaluate(predictionsDataView, labelColumnName:\"LabelAsKey\", predictedLabelColumnName: \"PredictedLabel\");"
   ]
  },
  {
   "cell_type": "code",
   "execution_count": 13,
   "metadata": {},
   "outputs": [
    {
     "name": "stdout",
     "output_type": "stream",
     "text": [
      "Micro accuracy: 0,9921648782149549\n",
      "Macro accuracy: 0,9913303593965694\n",
      "Log loss: 0,039259256162941465\n",
      "Log loss reduction: 0,9895473451372309\n"
     ]
    }
   ],
   "source": [
    "Console.WriteLine($\"Micro accuracy: {metrics3.MicroAccuracy}\");\n",
    "Console.WriteLine($\"Macro accuracy: {metrics3.MacroAccuracy}\");\n",
    "Console.WriteLine($\"Log loss: {metrics3.LogLoss}\");\n",
    "Console.WriteLine($\"Log loss reduction: {metrics3.LogLossReduction}\");"
   ]
  },
  {
   "cell_type": "markdown",
   "metadata": {},
   "source": []
  },
  {
   "cell_type": "markdown",
   "metadata": {},
   "source": [
    "### To conclude, the team collected some images from outside the dataset to test and to simulate the user input, for each of the trained models."
   ]
  },
  {
   "cell_type": "code",
   "execution_count": 51,
   "metadata": {},
   "outputs": [
    {
     "name": "stdout",
     "output_type": "stream",
     "text": [
      "Image Filename : [pexels-yaroslava-borz-10049901.jpg], Scores : [0,47827196], Predicted Label : chrysanthemum\n",
      "Image Filename : [pexels-yaroslava-borz-10049901.jpg], Scores : [0,74887437], Predicted Label : rose\n",
      "Image Filename : [pexels-yaroslava-borz-10049901.jpg], Scores : [0,9900767], Predicted Label : rose\n",
      "Image Filename : [pexels-yaroslava-borz-10049901.jpg], Scores : [0,99600214], Predicted Label : chrysanthemum\n",
      "---------------- Expected: Rose ------------\n",
      "Image Filename : [flowers-10201_640.jpg], Scores : [0,80124414], Predicted Label : chrysanthemum\n",
      "Image Filename : [flowers-10201_640.jpg], Scores : [0,9545941], Predicted Label : chrysanthemum\n",
      "Image Filename : [flowers-10201_640.jpg], Scores : [0,99988496], Predicted Label : chrysanthemum\n",
      "Image Filename : [flowers-10201_640.jpg], Scores : [0,98275304], Predicted Label : chrysanthemum\n",
      "---------------- Expected: Chrysanthemum ------------\n",
      "Image Filename : [pexels-sharath-g-4186544.jpg], Scores : [0,8889381], Predicted Label : grape\n",
      "Image Filename : [pexels-sharath-g-4186544.jpg], Scores : [0,6113242], Predicted Label : grape\n",
      "Image Filename : [pexels-sharath-g-4186544.jpg], Scores : [0,7841679], Predicted Label : grape\n",
      "Image Filename : [pexels-sharath-g-4186544.jpg], Scores : [0,96985435], Predicted Label : grape\n",
      "---------------- Expected: Grape ------------\n",
      "Image Filename : [pexels-rachel-claire-4846501.jpg], Scores : [0,40904933], Predicted Label : rose\n",
      "Image Filename : [pexels-rachel-claire-4846501.jpg], Scores : [0,41684708], Predicted Label : grape\n",
      "Image Filename : [pexels-rachel-claire-4846501.jpg], Scores : [0,41442686], Predicted Label : kalanchoe\n",
      "Image Filename : [pexels-rachel-claire-4846501.jpg], Scores : [0,6684135], Predicted Label : dandelion\n",
      "---------------- Expected: Cactus ------------\n",
      "Image Filename : [pexels-teona-swift-6912850.jpg], Scores : [0,9305835], Predicted Label : rose\n",
      "Image Filename : [pexels-teona-swift-6912850.jpg], Scores : [0,6062967], Predicted Label : rose\n",
      "Image Filename : [pexels-teona-swift-6912850.jpg], Scores : [0,88904035], Predicted Label : rose\n",
      "Image Filename : [pexels-teona-swift-6912850.jpg], Scores : [0,648152], Predicted Label : pelargonium\n",
      "---------------- Expected: Rose or Hortensia ------------\n",
      "Image Filename : [flowers-5359098_640 (1).jpg], Scores : [0,7532971], Predicted Label : yucca\n",
      "Image Filename : [flowers-5359098_640 (1).jpg], Scores : [0,89209354], Predicted Label : yucca\n",
      "Image Filename : [flowers-5359098_640 (1).jpg], Scores : [0,99905807], Predicted Label : yucca\n",
      "Image Filename : [flowers-5359098_640 (1).jpg], Scores : [0,9750534], Predicted Label : yucca\n",
      "---------------- Expected: Yucca ------------\n"
     ]
    }
   ],
   "source": [
    "string rose = @\"C:\\Users\\luisf\\Downloads\\TestImages\\Image\\rose\";\n",
    "TrySinglePrediction(rose,mlContext,trainedModelResnet);\n",
    "TrySinglePrediction(rose,mlContext,trainedModelMobilenet);\n",
    "TrySinglePrediction(rose,mlContext,trainedModelMobilenetDataMan);\n",
    "TrySinglePrediction(rose,mlContext,trainedModelResnetDataMan);\n",
    "System.Console.WriteLine(\"---------------- Expected: Rose ------------\");\n",
    "\n",
    "string chrysanthemum = @\"C:\\Users\\luisf\\Downloads\\TestImages\\Image\\chrysanthemum\";\n",
    "TrySinglePrediction(chrysanthemum,mlContext,trainedModelResnet);\n",
    "TrySinglePrediction(chrysanthemum,mlContext,trainedModelMobilenet);\n",
    "TrySinglePrediction(chrysanthemum,mlContext,trainedModelMobilenetDataMan);\n",
    "TrySinglePrediction(chrysanthemum,mlContext,trainedModelResnetDataMan);\n",
    "System.Console.WriteLine(\"---------------- Expected: Chrysanthemum ------------\");\n",
    "\n",
    "string grape = @\"C:\\Users\\luisf\\Downloads\\TestImages\\Image\\grape\";\n",
    "TrySinglePrediction(grape,mlContext,trainedModelResnet);\n",
    "TrySinglePrediction(grape,mlContext,trainedModelMobilenet);\n",
    "TrySinglePrediction(grape,mlContext,trainedModelMobilenetDataMan);\n",
    "TrySinglePrediction(grape,mlContext,trainedModelResnetDataMan);\n",
    "System.Console.WriteLine(\"---------------- Expected: Grape ------------\");\n",
    "\n",
    "string cactus = @\"C:\\Users\\luisf\\Downloads\\TestImages\\Image\\cactus\";\n",
    "TrySinglePrediction(cactus,mlContext,trainedModelResnet);\n",
    "TrySinglePrediction(cactus,mlContext,trainedModelMobilenet);\n",
    "TrySinglePrediction(cactus,mlContext,trainedModelMobilenetDataMan);\n",
    "TrySinglePrediction(cactus,mlContext,trainedModelResnetDataMan);\n",
    "System.Console.WriteLine(\"---------------- Expected: Cactus ------------\");\n",
    "\n",
    "\n",
    "string doubleFlower = @\"C:\\Users\\luisf\\Downloads\\TestImages\\Image\\double\";\n",
    "TrySinglePrediction(doubleFlower,mlContext,trainedModelResnet);\n",
    "TrySinglePrediction(doubleFlower,mlContext,trainedModelMobilenet);\n",
    "TrySinglePrediction(doubleFlower,mlContext,trainedModelMobilenetDataMan);\n",
    "TrySinglePrediction(doubleFlower,mlContext,trainedModelResnetDataMan);\n",
    "System.Console.WriteLine(\"---------------- Expected: Rose or Hortensia ------------\");\n",
    "\n",
    "string yucca = @\"C:\\Users\\luisf\\Downloads\\TestImages\\Image\\yucca\";\n",
    "TrySinglePrediction(yucca,mlContext,trainedModelResnet);\n",
    "TrySinglePrediction(yucca,mlContext,trainedModelMobilenet);\n",
    "TrySinglePrediction(yucca,mlContext,trainedModelMobilenetDataMan);\n",
    "TrySinglePrediction(yucca,mlContext,trainedModelResnetDataMan);\n",
    "System.Console.WriteLine(\"---------------- Expected: Yucca ------------\");\n"
   ]
  },
  {
   "cell_type": "markdown",
   "metadata": {},
   "source": [
    "### It can be induced from this results that different plants cause misclassification at times, depending on the model. The models using ResNet, since it is a deeper network, recognize plants by more attributes, while Mobilenet can misclassify a plant if there is some similarities, like the same color is presented, even if the plant has a different shape.\n",
    "### The results also show that the data manipulation did improve the accuracy of the model in general, and also reduced the imbalance between classes, if we take by example the Cactus, the initial models tend to take Rose and Grape since these are the labels with the biggest amount of data, and after the data manipulation, even if the prediction is wrong, it takes in account flowers with less data, which have more similarities with the flower of the cactus than the rose or grape."
   ]
  },
  {
   "cell_type": "markdown",
   "metadata": {},
   "source": []
  }
 ],
 "metadata": {
  "kernelspec": {
   "display_name": ".NET (C#)",
   "language": "C#",
   "name": ".net-csharp"
  },
  "language_info": {
   "file_extension": ".cs",
   "mimetype": "text/x-csharp",
   "name": "C#",
   "pygments_lexer": "csharp",
   "version": "9.0"
  }
 },
 "nbformat": 4,
 "nbformat_minor": 4
}
