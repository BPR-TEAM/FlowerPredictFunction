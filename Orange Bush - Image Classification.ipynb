{
 "cells": [
  {
   "cell_type": "markdown",
   "metadata": {},
   "source": [
    "### Purpose: Predicting which plant a user has at home"
   ]
  },
  {
   "cell_type": "markdown",
   "metadata": {},
   "source": [
    "### Use: The goal is to collect data and create a model that can effectively predict which plant the user has when uploading a photo on the platform."
   ]
  },
  {
   "cell_type": "markdown",
   "metadata": {},
   "source": [
    "### Problem type: Image Classification"
   ]
  },
  {
   "cell_type": "markdown",
   "metadata": {},
   "source": [
    "### Data Collection: The data was collected by members of the team and was limited to the available plants in their household and surroundings. So some of the plants are also limited to one stage of its growing, for example the tomato has only pictures of its fruit unripened, so a plant with a red tomato could be misclassified."
   ]
  },
  {
   "cell_type": "markdown",
   "metadata": {},
   "source": [
    "### Design Choices: The choice was to use ML.NET due to the easier integration and experience that the team had using Net.Core, and also due to it's easier integration with Azure Functions. Due to this choice, some of the options were limited when building the model, after some research on the available libraries in C# for machine learning, SciSharp.TensorFlow and Sci.Keras were taken into account to build the neural networks but none of them allowed for using a pre-trained model as a base to a customized CNN, due to this reason, there was a limitation to use one of the available DNN pre-trained models in ML.NET which on the other hand only allows pre-trained models, in our case and due to the short amount of data, it was a better choice to use pre-trained models instead of only the CNN without the pre-trained model as a base."
   ]
  },
  {
   "cell_type": "code",
   "execution_count": 2,
   "metadata": {},
   "outputs": [
    {
     "data": {
      "text/html": [
       "<div><div></div><div></div><div><strong>Installed Packages</strong><ul><li><span>Microsoft.Extensions.ML, 1.7.0</span></li><li><span>Microsoft.ML, 1.7.0</span></li><li><span>Microsoft.ML.ImageAnalytics, 1.7.0</span></li><li><span>Microsoft.ML.Vision, 1.7.0</span></li><li><span>SciSharp.TensorFlow.Redist-Windows-GPU, 1.14.0</span></li><li><span>XPlot.Plotly, 2.0.0</span></li></ul></div></div>"
      ]
     },
     "metadata": {},
     "output_type": "display_data"
    }
   ],
   "source": [
    "// ML.NET Nuget packages installation\n",
    "#r \"nuget:Microsoft.ML,1.7.0\"\n",
    "#r \"nuget:Microsoft.ML.Vision,1.7.0\"    \n",
    "#r \"nuget:Microsoft.ML.ImageAnalytics,1.7.0\"    \n",
    "#r \"nuget:Microsoft.Extensions.ML,1.7.0\"\n",
    "#r \"nuget:SciSharp.TensorFlow.Redist-Windows-GPU,1.14.0\"\n",
    "//Install XPlot package\n",
    "#r \"nuget:XPlot.Plotly,2.0.0\""
   ]
  },
  {
   "cell_type": "code",
   "execution_count": 30,
   "metadata": {},
   "outputs": [
    {
     "name": "stderr",
     "output_type": "stream",
     "text": [
      "\n",
      "(56,23): warning CS0649: Field 'ImagePredictionOutput.PredictedLabel' is never assigned to, and will always have its default value null\n",
      "\n",
      "(53,24): warning CS0649: Field 'ImagePredictionOutput.Score' is never assigned to, and will always have its default value null\n",
      "\n"
     ]
    }
   ],
   "source": [
    "using Microsoft.ML.Data;\n",
    "using Microsoft.ML;\n",
    "using Microsoft.ML.Vision;\n",
    "using System.IO;\n",
    "using System;\n",
    "using static Microsoft.ML.Transforms.ValueToKeyMappingEstimator;\n",
    "\n",
    "public static IEnumerable<ImageData> LoadImages(\n",
    "            string folder,\n",
    "            bool useFolderNameAsLabel = true)\n",
    "            => LoadImagesFromDirectory(folder, useFolderNameAsLabel)\n",
    "                .Select(x => new ImageData(x.imagePath, x.label));\n",
    "\n",
    "public static IEnumerable<(string imagePath, string label)> LoadImagesFromDirectory(\n",
    "            string folder,\n",
    "            bool useFolderNameasLabel)\n",
    "        {\n",
    "            var imagesPath = Directory\n",
    "                .GetFiles(folder, \"*\", searchOption: SearchOption.AllDirectories)\n",
    "                .Where(x => Path.GetExtension(x) == \".jpg\" || Path.GetExtension(x) == \".png\");\n",
    "\n",
    "            return useFolderNameasLabel\n",
    "                ? imagesPath.Select(imagePath => (imagePath, Directory.GetParent(imagePath).Name))\n",
    "                : imagesPath.Select(imagePath =>\n",
    "                {\n",
    "                    var label = Path.GetFileName(imagePath);\n",
    "                    for (var index = 0; index < label.Length; index++)\n",
    "                    {\n",
    "                        if (!char.IsLetter(label[index]))\n",
    "                        {\n",
    "                            label = label.Substring(0, index);\n",
    "                            break;\n",
    "                        }\n",
    "                    }\n",
    "                    return (imagePath, label);\n",
    "  });\n",
    "}\n",
    "\n",
    "        public static IEnumerable<ImagePredictionInput> LoadLocalImages(\n",
    "            string folder,\n",
    "            bool useFolderNameAsLabel = true)\n",
    "        {\n",
    "            return LoadImagesFromDirectory(folder, useFolderNameAsLabel)\n",
    "                .Select(x => new ImagePredictionInput(\n",
    "                    image: File.ReadAllBytes(x.imagePath),\n",
    "                    label: x.label,\n",
    "                    imageFileName: Path.GetFileName(x.imagePath)));\n",
    "        }\n",
    "\n",
    "public class ImagePredictionOutput\n",
    "    {\n",
    "        [ColumnName(\"Score\")]\n",
    "        public float[] Score;\n",
    "\n",
    "        [ColumnName(\"PredictedLabel\")]\n",
    "        public string PredictedLabel;\n",
    "    }\n",
    "\n",
    " public class ImageData\n",
    "{\n",
    "    public ImageData(string imagePath, string label)\n",
    "    {\n",
    "        ImagePath = imagePath;\n",
    "        Label = label;\n",
    "    }\n",
    "\n",
    "    public readonly string ImagePath;\n",
    "    public readonly string Label;\n",
    "}\n",
    "\n",
    "  public class ImagePredictionInput\n",
    "    {\n",
    "        public ImagePredictionInput()\n",
    "        {\n",
    "        }\n",
    "\n",
    "        public ImagePredictionInput(byte[] image, string label, string imageFileName)\n",
    "        {\n",
    "            Image = image;\n",
    "            Label = label;\n",
    "            ImageFileName = imageFileName;\n",
    "        }\n",
    "\n",
    "        public byte[] Image {get;set;}\n",
    "\n",
    "        public string Label {get;set;}\n",
    "\n",
    "        public string ImageFileName {get;set;}\n",
    "    }\n",
    "\n",
    "const string initialDataset = @\"C:\\Users\\luisf\\Downloads\\Machine Learning personal dataset\\Machine Learning personal dataset\";\n",
    "const string initialReducedDataset =  @\"C:\\Users\\luisf\\Downloads\\Machine Learning personal dataset - Cópia\\Machine Learning personal dataset\";\n",
    "const string augmentedDataset = @\"C:\\Users\\luisf\\Downloads\\Machine Learning personal dataset AUG\";\n",
    "const string finalDataset = @\"C:\\Users\\luisf\\Downloads\\Machine Learning personal Final\\Machine Learning personal dataset\";\n",
    "string imagesFolderPathForPredictions = @\"C:\\Users\\luisf\\Downloads\\TestImages\";\n",
    "\n",
    "var mlContext = new MLContext(seed: 1);"
   ]
  },
  {
   "cell_type": "markdown",
   "metadata": {},
   "source": [
    "----\n",
    "\n",
    "## First, the initial dataset was tested to understand what prediction could be retrieved from it using the pre-trained model ResNetv50"
   ]
  },
  {
   "cell_type": "code",
   "execution_count": 4,
   "metadata": {},
   "outputs": [
    {
     "name": "stdout",
     "output_type": "stream",
     "text": [
      "Saver not created because there are no variables in the graph to restore\n",
      "Saver not created because there are no variables in the graph to restore\n",
      "Restoring parameters from C:\\Users\\luisf\\AppData\\Local\\Temp\\irvtqicw.xfq\\custom_retrained_model_based_on_resnet_v2_50_299.meta\n",
      "Froze 2 variables. \n",
      "Converted 2 variables to const ops. \n",
      "Micro accuracy: 0,47161572052401746\n",
      "Macro accuracy: 0,33066534914361\n"
     ]
    }
   ],
   "source": [
    "// 1. Load the initial dataset and shuffle so it'll be better balanced before splitting into test and train data\n",
    "IEnumerable<ImageData> images = LoadImages(folder: initialDataset, useFolderNameAsLabel: true);\n",
    "IDataView fullImagesDataset = mlContext.Data.LoadFromEnumerable(images);\n",
    "IDataView shuffledFullImageFilePathsDataset = mlContext.Data.ShuffleRows(fullImagesDataset);\n",
    "\n",
    "// 2. Load Images with in-memory type within the IDataView and Transform Labels to Keys (Categorical)\n",
    "IDataView shuffledFullImagesDataset = mlContext.Transforms.Conversion.\n",
    "    MapValueToKey(outputColumnName: \"LabelAsKey\", inputColumnName: \"Label\", keyOrdinality: KeyOrdinality.ByValue)\n",
    "    .Append(mlContext.Transforms.LoadRawImageBytes(\n",
    "        outputColumnName: \"Image\",\n",
    "        imageFolder: initialDataset,\n",
    "        inputColumnName: \"ImagePath\"))\n",
    "    .Fit(shuffledFullImageFilePathsDataset)\n",
    "    .Transform(shuffledFullImageFilePathsDataset);\n",
    "\n",
    " // 3. Split the data 80:20 into train and test sets, train and evaluate.\n",
    "var trainTestData = mlContext.Data.TrainTestSplit(shuffledFullImagesDataset, testFraction: 0.2);\n",
    "IDataView trainDataView = trainTestData.TrainSet;\n",
    "IDataView testDataView = trainTestData.TestSet;\n",
    "\n",
    "// 5. Define the model's training pipeline using DNN default values\n",
    "var pipeline = mlContext.MulticlassClassification.Trainers\n",
    ".ImageClassification(featureColumnName: \"Image\",\n",
    "                     labelColumnName: \"LabelAsKey\",\n",
    "                     validationSet: testDataView)\n",
    "    .Append(mlContext.Transforms.Conversion.MapKeyToValue(outputColumnName: \"PredictedLabel\",\n",
    "                                                          inputColumnName: \"PredictedLabel\"));\n",
    "\n",
    "//Train\n",
    "ITransformer trainedModel = pipeline.Fit(trainDataView);\n",
    "\n",
    "var predictionsDataView = trainedModel.Transform(testDataView);\n",
    "var metrics = mlContext.MulticlassClassification.Evaluate(predictionsDataView, labelColumnName:\"LabelAsKey\", predictedLabelColumnName: \"PredictedLabel\");\n",
    "\n",
    "Console.WriteLine($\"Micro accuracy: {metrics.MicroAccuracy}\");\n",
    "Console.WriteLine($\"Macro accuracy: {metrics.MacroAccuracy}\");\n",
    "           "
   ]
  },
  {
   "cell_type": "code",
   "execution_count": 5,
   "metadata": {},
   "outputs": [
    {
     "data": {
      "text/html": [
       "<table><thead><tr><th>LogLoss</th><th>LogLossReduction</th><th>MacroAccuracy</th><th>MicroAccuracy</th><th>TopKAccuracy</th><th>TopKPredictionCount</th><th>TopKAccuracyForAllK</th><th>PerClassLogLoss</th><th>ConfusionMatrix</th></tr></thead><tbody><tr><td><div class=\"dni-plaintext\">2.714478799505919</div></td><td><div class=\"dni-plaintext\">0.3257601780618385</div></td><td><div class=\"dni-plaintext\">0.33066534914361</div></td><td><div class=\"dni-plaintext\">0.47161572052401746</div></td><td><div class=\"dni-plaintext\">0</div></td><td><div class=\"dni-plaintext\">0</div></td><td><div class=\"dni-plaintext\">&lt;null&gt;</div></td><td><div class=\"dni-plaintext\">[ 0.36630819344600707, 4.528228435419033, 0, 2.592148128720884, 0, 4.100341547018465, 1.2663614071903921, 0, 0, 10.641962688541167, 0, 0, 0.9268349505539969, 0, 3.2894549154731973, 0, 10.569197476002808, 0, 0, 0 ... (155 more) ]</div></td><td><div class=\"dni-plaintext\">{ Microsoft.ML.Data.ConfusionMatrix: PerClassPrecision: [ 0.5, 0, 0, 0, 0, 0, 1, 0, 0, 0, 0, 0, 0.3333333333333333, 0, 0, 0, 0, 0, 0, 0 ... (155 more) ], PerClassRecall: [ 1, 0, 0, 0, 0, 0, 1, 0, 0, 0, 0, 0, 0.6666666666666666, 0, 0, 0, 0, 0, 0, 0 ... (155 more) ], Counts: [ [ 1, 0, 0, 0, 0, 0, 0, 0, 0, 0, 0, 0, 0, 0, 0, 0, 0, 0, 0, 0 ... (155 more) ], [ 0, 0, 0, 0, 0, 0, 0, 0, 0, 0, 0, 0, 0, 0, 0, 0, 0, 0, 0, 0 ... (155 more) ], [ 0, 0, 0, 0, 0, 0, 0, 0, 0, 0, 0, 0, 0, 0, 0, 0, 0, 0, 0, 0 ... (155 more) ], [ 0, 0, 0, 0, 0, 0, 0, 0, 0, 0, 0, 0, 0, 0, 0, 0, 0, 0, 0, 0 ... (155 more) ], [ 0, 0, 0, 0, 0, 0, 0, 0, 0, 0, 0, 0, 0, 0, 0, 0, 0, 0, 0, 0 ... (155 more) ], [ 0, 0, 0, 0, 0, 0, 0, 0, 0, 0, 0, 0, 0, 0, 0, 0, 0, 0, 0, 0 ... (155 more) ], [ 0, 0, 0, 0, 0, 0, 1, 0, 0, 0, 0, 0, 0, 0, 0, 0, 0, 0, 0, 0 ... (155 more) ], [ 0, 0, 0, 0, 0, 0, 0, 0, 0, 0, 0, 0, 0, 0, 0, 0, 0, 0, 0, 0 ... (155 more) ], [ 0, 0, 0, 0, 0, 0, 0, 0, 0, 0, 0, 0, 0, 0, 0, 0, 0, 0, 0, 0 ... (155 more) ], [ 0, 0, 0, 0, 0, 0, 0, 0, 0, 0, 0, 0, 0, 0, 0, 0, 0, 0, 0, 0 ... (155 more) ], [ 0, 0, 0, 0, 0, 0, 0, 0, 0, 0, 0, 0, 0, 0, 0, 0, 0, 0, 0, 0 ... (155 more) ], [ 0, 0, 0, 0, 0, 0, 0, 0, 0, 0, 0, 0, 0, 0, 0, 0, 0, 0, 0, 0 ... (155 more) ], [ 0, 0, 0, 0, 0, 0, 0, 0, 0, 0, 0, 0, 2, 0, 0, 0, 0, 0, 0, 0 ... (155 more) ], [ 0, 0, 0, 0, 0, 0, 0, 0, 0, 0, 0, 0, 0, 0, 0, 0, 0, 0, 0, 0 ... (155 more) ], [ 0, 0, 0, 0, 0, 0, 0, 0, 0, 0, 0, 0, 0, 0, 0, 0, 0, 0, 0, 0 ... (155 more) ], [ 0, 0, 0, 0, 0, 0, 0, 0, 0, 0, 0, 0, 0, 0, 0, 0, 0, 0, 0, 0 ... (155 more) ], [ 0, 0, 0, 0, 0, 0, 0, 0, 0, 0, 0, 0, 0, 0, 0, 0, 0, 0, 0, 0 ... (155 more) ], [ 0, 0, 0, 0, 0, 0, 0, 0, 0, 0, 0, 0, 0, 0, 0, 0, 0, 0, 0, 0 ... (155 more) ], [ 0, 0, 0, 0, 0, 0, 0, 0, 0, 0, 0, 0, 0, 0, 0, 0, 0, 0, 0, 0 ... (155 more) ], [ 0, 0, 0, 0, 0, 0, 0, 0, 0, 0, 0, 0, 0, 0, 0, 0, 0, 0, 0, 0 ... (155 more) ] ... (155 more) ], NumberOfClasses: 175 }</div></td></tr></tbody></table>"
      ]
     },
     "metadata": {},
     "output_type": "display_data"
    }
   ],
   "source": [
    "display(metrics);"
   ]
  },
  {
   "cell_type": "markdown",
   "metadata": {},
   "source": [
    "----\n",
    "\n",
    "## After testing with the first model, it is possible to see that a low accuracy is achieved, possibly because the model was trained with about 120 label where the images were below 5, which means that such amount of images could result in overfitting, for example, one flower had only two images and both in a vase, when trying to predict this flower , if an image had no vase it would fail to predict this was the actual flower or present a lower accuracy than if the plant was in a vase. The macro accuracy being way lower than the micro accuracy, shows that there is some class imbalance, which proves that some labels are doing much better than others.\n",
    "\n",
    "## The decision was to reduce the dataset and keep the labels where there is at least 5 images of a plant, reducing it from 181 labels to about 61 labels."
   ]
  },
  {
   "cell_type": "code",
   "execution_count": 37,
   "metadata": {},
   "outputs": [
    {
     "name": "stdout",
     "output_type": "stream",
     "text": [
      "Saver not created because there are no variables in the graph to restore\n",
      "Saver not created because there are no variables in the graph to restore\n",
      "Restoring parameters from C:\\Users\\luisf\\AppData\\Local\\Temp\\1mqpfest.rrg\\custom_retrained_model_based_on_resnet_v2_50_299.meta\n",
      "Froze 2 variables. \n",
      "Converted 2 variables to const ops. \n",
      "Micro accuracy: 0,6502732240437158\n",
      "Macro accuracy: 0,5703781512605043\n"
     ]
    },
    {
     "data": {
      "text/html": [
       "<table><thead><tr><th><i>index</i></th><th>value</th></tr></thead><tbody><tr><td>0</td><td><div class=\"dni-plaintext\">3.238132265194406</div></td></tr><tr><td>1</td><td><div class=\"dni-plaintext\">4.0605745509352</div></td></tr><tr><td>2</td><td><div class=\"dni-plaintext\">1.308571013285548</div></td></tr><tr><td>3</td><td><div class=\"dni-plaintext\">0.3771600899516253</div></td></tr><tr><td>4</td><td><div class=\"dni-plaintext\">5.223123405987968</div></td></tr><tr><td>5</td><td><div class=\"dni-plaintext\">0</div></td></tr><tr><td>6</td><td><div class=\"dni-plaintext\">1.0811994062989954</div></td></tr><tr><td>7</td><td><div class=\"dni-plaintext\">0.5204162247699701</div></td></tr><tr><td>8</td><td><div class=\"dni-plaintext\">1.2803244885324023</div></td></tr><tr><td>9</td><td><div class=\"dni-plaintext\">0.5213234873802339</div></td></tr><tr><td>10</td><td><div class=\"dni-plaintext\">3.2344310202888673</div></td></tr><tr><td>11</td><td><div class=\"dni-plaintext\">0.06830764036290103</div></td></tr><tr><td>12</td><td><div class=\"dni-plaintext\">0.8635618029853571</div></td></tr><tr><td>13</td><td><div class=\"dni-plaintext\">2.6899968989537855</div></td></tr><tr><td>14</td><td><div class=\"dni-plaintext\">3.3540948092434606</div></td></tr><tr><td>15</td><td><div class=\"dni-plaintext\">4.369862482112651</div></td></tr><tr><td>16</td><td><div class=\"dni-plaintext\">1.4092456776554458</div></td></tr><tr><td>17</td><td><div class=\"dni-plaintext\">1.275861155589001</div></td></tr><tr><td>18</td><td><div class=\"dni-plaintext\">0</div></td></tr><tr><td>19</td><td><div class=\"dni-plaintext\">0</div></td></tr><tr><td colspan=\"2\"><i>(38 more)</i></td></tr></tbody></table>"
      ]
     },
     "metadata": {},
     "output_type": "display_data"
    }
   ],
   "source": [
    "// 1. Load the initial dataset and shuffle so it'll be better balanced before splitting into test and train data\n",
    "IEnumerable<ImageData> images = LoadImages(folder: initialReducedDataset, useFolderNameAsLabel: true);\n",
    "IDataView fullImagesDataset = mlContext.Data.LoadFromEnumerable(images);\n",
    "IDataView shuffledFullImageFilePathsDataset = mlContext.Data.ShuffleRows(fullImagesDataset);\n",
    "\n",
    "// 2. Load Images with in-memory type within the IDataView and Transform Labels to Keys (Categorical)\n",
    "IDataView shuffledFullImagesDataset = mlContext.Transforms.Conversion.\n",
    "    MapValueToKey(outputColumnName: \"LabelAsKey\", inputColumnName: \"Label\", keyOrdinality: KeyOrdinality.ByValue)\n",
    "    .Append(mlContext.Transforms.LoadRawImageBytes(\n",
    "        outputColumnName: \"Image\",\n",
    "        imageFolder: initialDataset,\n",
    "        inputColumnName: \"ImagePath\"))\n",
    "    .Fit(shuffledFullImageFilePathsDataset)\n",
    "    .Transform(shuffledFullImageFilePathsDataset);\n",
    "\n",
    " // 3. Split the data 80:20 into train and test sets, train and evaluate.\n",
    "var trainTestData = mlContext.Data.TrainTestSplit(shuffledFullImagesDataset, testFraction: 0.2);\n",
    "IDataView trainDataView = trainTestData.TrainSet;\n",
    "IDataView testDataView = trainTestData.TestSet;\n",
    "\n",
    "// 5. Define the model's training pipeline using DNN default values\n",
    "var pipeline = mlContext.MulticlassClassification.Trainers\n",
    ".ImageClassification(featureColumnName: \"Image\",\n",
    "                     labelColumnName: \"LabelAsKey\",\n",
    "                     validationSet: testDataView)\n",
    "    .Append(mlContext.Transforms.Conversion.MapKeyToValue(outputColumnName: \"PredictedLabel\",\n",
    "                                                          inputColumnName: \"PredictedLabel\"));\n",
    "\n",
    "//Train\n",
    "ITransformer trainedModel = pipeline.Fit(trainDataView);\n",
    "\n",
    "var predictionsDataView = trainedModel.Transform(testDataView);\n",
    "var metrics = mlContext.MulticlassClassification.Evaluate(predictionsDataView, labelColumnName:\"LabelAsKey\", predictedLabelColumnName: \"PredictedLabel\");\n",
    "\n",
    "Console.WriteLine($\"Micro accuracy: {metrics.MicroAccuracy}\");\n",
    "Console.WriteLine($\"Macro accuracy: {metrics.MacroAccuracy}\");"
   ]
  },
  {
   "cell_type": "markdown",
   "metadata": {},
   "source": [
    "---- \n",
    "\n",
    "### Tuning hyperparameters to enhance the model"
   ]
  },
  {
   "cell_type": "markdown",
   "metadata": {},
   "source": [
    "### Pre-trained Model choice fell upon MobilenetV2 since it reaches a compromise between performance and accuracy, in this case, it presented a higher accuracy than ResNet50 v2 as it can seen below: (ResNet was used so far, since it is the standard on ML.Net)\n",
    "### MobilenetV2 is less heavy in size and also performs faster, about half the time for both training and predicting. \n",
    "###\n",
    "### For the learning rate, it 0.01 seemed to have the best prediction, after both 0.001 and 0.0001 were tested."
   ]
  },
  {
   "cell_type": "code",
   "execution_count": 69,
   "metadata": {},
   "outputs": [
    {
     "name": "stdout",
     "output_type": "stream",
     "text": [
      "Saver not created because there are no variables in the graph to restore\n",
      "Saver not created because there are no variables in the graph to restore\n",
      "Restoring parameters from C:\\Users\\luisf\\AppData\\Local\\Temp\\4ytctbdq.yhr\\custom_retrained_model_based_on_mobilenet_v2.meta\n",
      "Froze 2 variables. \n",
      "Converted 2 variables to const ops. \n"
     ]
    }
   ],
   "source": [
    "IEnumerable<ImageData> images = LoadImages(folder: initialReducedDataset, useFolderNameAsLabel: true);\n",
    "IDataView fullImagesDataset = mlContext.Data.LoadFromEnumerable(images);\n",
    "IDataView shuffledFullImageFilePathsDataset = mlContext.Data.ShuffleRows(fullImagesDataset);\n",
    "\n",
    "IDataView shuffledFullImagesDataset = mlContext.Transforms.Conversion.\n",
    "    MapValueToKey(outputColumnName: \"LabelAsKey\", inputColumnName: \"Label\", keyOrdinality: KeyOrdinality.ByValue)\n",
    "    .Append(mlContext.Transforms.LoadRawImageBytes(\n",
    "        outputColumnName: \"Image\",\n",
    "        imageFolder: initialDataset,\n",
    "        inputColumnName: \"ImagePath\"))\n",
    "    .Fit(shuffledFullImageFilePathsDataset)\n",
    "    .Transform(shuffledFullImageFilePathsDataset);\n",
    "\n",
    "var trainTestData = mlContext.Data.TrainTestSplit(shuffledFullImagesDataset, testFraction: 0.2);\n",
    "IDataView trainDataView = trainTestData.TrainSet;\n",
    "IDataView testDataView = trainTestData.TestSet;\n",
    "\n",
    "var options = new ImageClassificationTrainer.Options()\n",
    " {\n",
    "    FeatureColumnName = \"Image\",\n",
    "    LabelColumnName = \"LabelAsKey\",\n",
    "    Arch = ImageClassificationTrainer.Architecture.MobilenetV2,\n",
    "    Epoch = 50,\n",
    "    BatchSize = 10,\n",
    "    LearningRate = 0.01f,\n",
    "    ValidationSet = testDataView\n",
    "};\n",
    "\n",
    "var pipeline = mlContext.MulticlassClassification.Trainers.ImageClassification(options)\n",
    "        .Append(mlContext.Transforms.Conversion.MapKeyToValue(\n",
    "           outputColumnName: \"PredictedLabel\",\n",
    "           inputColumnName: \"PredictedLabel\"));\n",
    "\n",
    "//Train\n",
    "ITransformer trainedModel = pipeline.Fit(trainDataView);\n",
    "\n",
    "var predictionsDataView = trainedModel.Transform(testDataView);\n",
    "var metrics = mlContext.MulticlassClassification.Evaluate(predictionsDataView, labelColumnName:\"LabelAsKey\", predictedLabelColumnName: \"PredictedLabel\");"
   ]
  },
  {
   "cell_type": "code",
   "execution_count": 70,
   "metadata": {},
   "outputs": [
    {
     "data": {
      "text/html": [
       "<table><thead><tr><th>LogLoss</th><th>LogLossReduction</th><th>MacroAccuracy</th><th>MicroAccuracy</th><th>TopKAccuracy</th><th>TopKPredictionCount</th><th>TopKAccuracyForAllK</th><th>PerClassLogLoss</th><th>ConfusionMatrix</th></tr></thead><tbody><tr><td><div class=\"dni-plaintext\">1.3204091038030943</div></td><td><div class=\"dni-plaintext\">0.6471624758191168</div></td><td><div class=\"dni-plaintext\">0.6116045991045991</div></td><td><div class=\"dni-plaintext\">0.6502732240437158</div></td><td><div class=\"dni-plaintext\">0</div></td><td><div class=\"dni-plaintext\">0</div></td><td><div class=\"dni-plaintext\">&lt;null&gt;</div></td><td><div class=\"dni-plaintext\">[ 2.5275069864081727, 0.8507972442513009, 1.2587559498908567, 1.5499836006139227, 3.1261535857901226, 2.9538180398395193, 0.030014577043898632, 1.6689439377463802, 0.902478338447415, 0.5524437782751567, 2.2175381840295634, 0.6018216122627691, 0.28967138299145356, 2.8135954177138167, 4.169473036898637, 1.384722738162065, 1.0032072390254, 2.557472886171664, 0.044248192791129036, 0.03055836011814575 ... (38 more) ]</div></td><td><div class=\"dni-plaintext\">{ Microsoft.ML.Data.ConfusionMatrix: PerClassPrecision: [ 0.5, 1, 0.6666666666666666, 0, 0, 0, 0.5, 0.75, 1, 0.5, 0.5, 1, 0.75, 0, 0, 1, 1, 0.6, 0.25, 1 ... (38 more) ], PerClassRecall: [ 0.3333333333333333, 0.6666666666666666, 0.6666666666666666, 0, 0, 0, 1, 0.42857142857142855, 0.5, 0.8, 0.5, 1, 1, 0, 0, 0.5, 1, 0.5, 1, 1 ... (38 more) ], Counts: [ [ 1, 0, 0, 0, 0, 0, 0, 0, 0, 0, 0, 0, 0, 0, 0, 0, 0, 0, 0, 0 ... (38 more) ], [ 0, 2, 0, 0, 0, 0, 0, 0, 0, 0, 0, 0, 0, 0, 0, 0, 0, 0, 0, 0 ... (38 more) ], [ 1, 0, 2, 0, 0, 0, 0, 0, 0, 0, 0, 0, 0, 0, 0, 0, 0, 0, 0, 0 ... (38 more) ], [ 0, 0, 0, 0, 0, 0, 0, 0, 0, 1, 0, 0, 0, 0, 0, 0, 0, 0, 0, 0 ... (38 more) ], [ 0, 0, 0, 0, 0, 0, 0, 0, 0, 0, 0, 0, 0, 0, 0, 0, 0, 0, 0, 0 ... (38 more) ], [ 0, 0, 0, 0, 0, 0, 0, 0, 0, 0, 0, 0, 1, 0, 0, 0, 0, 0, 0, 0 ... (38 more) ], [ 0, 0, 0, 0, 0, 0, 1, 0, 0, 0, 0, 0, 0, 0, 0, 0, 0, 0, 0, 0 ... (38 more) ], [ 0, 0, 0, 0, 0, 0, 0, 3, 0, 0, 0, 0, 0, 0, 0, 0, 0, 0, 3, 0 ... (38 more) ], [ 0, 0, 0, 0, 0, 0, 0, 0, 1, 0, 0, 0, 0, 0, 0, 0, 0, 1, 0, 0 ... (38 more) ], [ 0, 0, 0, 0, 0, 0, 0, 0, 0, 8, 0, 0, 0, 0, 0, 0, 0, 0, 0, 0 ... (38 more) ], [ 0, 0, 0, 0, 0, 0, 0, 0, 0, 0, 1, 0, 0, 0, 0, 0, 0, 0, 0, 0 ... (38 more) ], [ 0, 0, 0, 0, 0, 0, 0, 0, 0, 0, 0, 3, 0, 0, 0, 0, 0, 0, 0, 0 ... (38 more) ], [ 0, 0, 0, 0, 0, 0, 0, 0, 0, 0, 0, 0, 6, 0, 0, 0, 0, 0, 0, 0 ... (38 more) ], [ 0, 0, 1, 0, 0, 0, 0, 0, 0, 0, 0, 0, 0, 0, 0, 0, 0, 0, 0, 0 ... (38 more) ], [ 0, 0, 0, 0, 0, 0, 0, 0, 0, 0, 0, 0, 0, 0, 0, 0, 0, 0, 0, 0 ... (38 more) ], [ 0, 0, 0, 0, 0, 0, 0, 0, 0, 1, 0, 0, 0, 0, 0, 1, 0, 0, 0, 0 ... (38 more) ], [ 0, 0, 0, 0, 0, 0, 0, 0, 0, 0, 0, 0, 0, 0, 0, 0, 1, 0, 0, 0 ... (38 more) ], [ 0, 0, 0, 0, 0, 0, 0, 0, 0, 2, 0, 0, 0, 0, 0, 0, 0, 3, 0, 0 ... (38 more) ], [ 0, 0, 0, 0, 0, 0, 0, 0, 0, 0, 0, 0, 0, 0, 0, 0, 0, 0, 1, 0 ... (38 more) ], [ 0, 0, 0, 0, 0, 0, 0, 0, 0, 0, 0, 0, 0, 0, 0, 0, 0, 0, 0, 1 ... (38 more) ] ... (38 more) ], NumberOfClasses: 58 }</div></td></tr></tbody></table>"
      ]
     },
     "execution_count": 70,
     "metadata": {},
     "output_type": "execute_result"
    }
   ],
   "source": [
    "metrics"
   ]
  },
  {
   "cell_type": "markdown",
   "metadata": {},
   "source": [
    "### The accuracy is still low, since the images are not that varied in some classes, so the next step was to process the data inside the dataset and multiply the images, such as rotating them and decreasing the quality to improve the accuracy when different images are evaluated. This step was performed in the project DataManipulation that contains the methods to perform this, consisting of flipping, rotating, mirroring and adjusting the quality of the image."
   ]
  },
  {
   "cell_type": "markdown",
   "metadata": {},
   "source": [
    "### Then the new model is trained with the chosen pre-trained model but also with the default one (ResNetv2 50) to compare the difference between them. It is possible to see that the one using MobilenetV2 has a slightly better accuracy and a lower log loss.\n",
    "### The data manipulation proved to be efficient, raising the accuracy from about 65% to around 99,5%."
   ]
  },
  {
   "cell_type": "code",
   "execution_count": 56,
   "metadata": {},
   "outputs": [
    {
     "name": "stdout",
     "output_type": "stream",
     "text": [
      "Saver not created because there are no variables in the graph to restore\n",
      "Saver not created because there are no variables in the graph to restore\n",
      "Restoring parameters from C:\\Users\\luisf\\AppData\\Local\\Temp\\dlyjh0f1.4ak\\custom_retrained_model_based_on_mobilenet_v2.meta\n",
      "Froze 2 variables. \n",
      "Converted 2 variables to const ops. \n"
     ]
    }
   ],
   "source": [
    "IEnumerable<ImageData> images = LoadImages(folder: finalDataset, useFolderNameAsLabel: true);\n",
    "IDataView fullImagesDataset = mlContext.Data.LoadFromEnumerable(images);\n",
    "IDataView shuffledFullImageFilePathsDataset = mlContext.Data.ShuffleRows(fullImagesDataset);\n",
    "\n",
    "// 2. Load Images with in-memory type within the IDataView and Transform Labels to Keys (Categorical)\n",
    "IDataView shuffledFullImagesDataset = mlContext.Transforms.Conversion.\n",
    "    MapValueToKey(outputColumnName: \"LabelAsKey\", inputColumnName: \"Label\", keyOrdinality: KeyOrdinality.ByValue)\n",
    "    .Append(mlContext.Transforms.LoadRawImageBytes(\n",
    "        outputColumnName: \"Image\",\n",
    "        imageFolder: finalDataset,\n",
    "        inputColumnName: \"ImagePath\"))\n",
    "    .Fit(shuffledFullImageFilePathsDataset)\n",
    "    .Transform(shuffledFullImageFilePathsDataset);\n",
    "\n",
    " // 3. Split the data 80:20 into train and test sets, train and evaluate.\n",
    "var trainTestData = mlContext.Data.TrainTestSplit(shuffledFullImagesDataset, testFraction: 0.2);\n",
    "IDataView trainDataView = trainTestData.TrainSet;\n",
    "IDataView testDataView = trainTestData.TestSet;\n",
    "\n",
    "var options = new ImageClassificationTrainer.Options()\n",
    " {\n",
    "    FeatureColumnName = \"Image\",\n",
    "    LabelColumnName = \"LabelAsKey\",\n",
    "            //    // Just by changing/selecting InceptionV3/MobilenetV2/ResnetV250  \n",
    "            //    // you can try a different DNN architecture (TensorFlow pre-trained model). \n",
    "    Arch = ImageClassificationTrainer.Architecture.MobilenetV2,\n",
    "    Epoch = 50,       //100\n",
    "    BatchSize = 10,\n",
    "    LearningRate = 0.01f,\n",
    "    ValidationSet = testDataView\n",
    "};\n",
    "\n",
    "var pipeline = mlContext.MulticlassClassification.Trainers.ImageClassification(options)\n",
    "        .Append(mlContext.Transforms.Conversion.MapKeyToValue(\n",
    "           outputColumnName: \"PredictedLabel\",\n",
    "           inputColumnName: \"PredictedLabel\"));\n",
    "\n",
    "//Train\n",
    "ITransformer trainedModel = pipeline.Fit(trainDataView);\n",
    "\n",
    "var predictionsDataView = trainedModel.Transform(testDataView);\n",
    "var metrics2 = mlContext.MulticlassClassification.Evaluate(predictionsDataView, labelColumnName:\"LabelAsKey\", predictedLabelColumnName: \"PredictedLabel\");"
   ]
  },
  {
   "cell_type": "code",
   "execution_count": 57,
   "metadata": {},
   "outputs": [
    {
     "data": {
      "text/html": [
       "<table><thead><tr><th>LogLoss</th><th>LogLossReduction</th><th>MacroAccuracy</th><th>MicroAccuracy</th><th>TopKAccuracy</th><th>TopKPredictionCount</th><th>TopKAccuracyForAllK</th><th>PerClassLogLoss</th><th>ConfusionMatrix</th></tr></thead><tbody><tr><td><div class=\"dni-plaintext\">0.02533325123197426</div></td><td><div class=\"dni-plaintext\">0.9932780171973637</div></td><td><div class=\"dni-plaintext\">0.9951044832460498</div></td><td><div class=\"dni-plaintext\">0.9950604667007324</div></td><td><div class=\"dni-plaintext\">0</div></td><td><div class=\"dni-plaintext\">0</div></td><td><div class=\"dni-plaintext\">&lt;null&gt;</div></td><td><div class=\"dni-plaintext\">[ 0.013258341214067193, 0.0029608738444084053, 0.01603074655223816, 0.19819676579263876, 0.005447281342060925, 0.015169074557539287, 0.014376796551478688, 0.03477905469984159, 0.024819933444580267, 0.009501605624579738, 0.011995665834515199, 0.0363841114269482, 0.003824555556132884, 0.011507205831813238, 0.026757017690566993, 0.10143298578098622, 0.12291497848504465, 0.010639888846718777, 0.023519932449300052, 0.031135604426496155 ... (41 more) ]</div></td><td><div class=\"dni-plaintext\">{ Microsoft.ML.Data.ConfusionMatrix: PerClassPrecision: [ 1, 1, 1, 1, 1, 1, 1, 0.9652173913043478, 0.9720930232558139, 1, 0.9917127071823204, 1, 1, 1, 1, 1, 1, 1, 1, 1 ... (41 more) ], PerClassRecall: [ 1, 1, 1, 0.9444444444444444, 1, 1, 1, 0.9823008849557522, 1, 1, 1, 1, 1, 1, 1, 1, 0.925, 1, 0.9913793103448276, 1 ... (41 more) ], Counts: [ [ 95, 0, 0, 0, 0, 0, 0, 0, 0, 0, 0, 0, 0, 0, 0, 0, 0, 0, 0, 0 ... (41 more) ], [ 0, 32, 0, 0, 0, 0, 0, 0, 0, 0, 0, 0, 0, 0, 0, 0, 0, 0, 0, 0 ... (41 more) ], [ 0, 0, 111, 0, 0, 0, 0, 0, 0, 0, 0, 0, 0, 0, 0, 0, 0, 0, 0, 0 ... (41 more) ], [ 0, 0, 0, 119, 0, 0, 0, 0, 6, 0, 0, 0, 0, 0, 0, 0, 0, 0, 0, 0 ... (41 more) ], [ 0, 0, 0, 0, 34, 0, 0, 0, 0, 0, 0, 0, 0, 0, 0, 0, 0, 0, 0, 0 ... (41 more) ], [ 0, 0, 0, 0, 0, 44, 0, 0, 0, 0, 0, 0, 0, 0, 0, 0, 0, 0, 0, 0 ... (41 more) ], [ 0, 0, 0, 0, 0, 0, 54, 0, 0, 0, 0, 0, 0, 0, 0, 0, 0, 0, 0, 0 ... (41 more) ], [ 0, 0, 0, 0, 0, 0, 0, 111, 0, 0, 0, 0, 0, 0, 0, 0, 0, 0, 0, 0 ... (41 more) ], [ 0, 0, 0, 0, 0, 0, 0, 0, 209, 0, 0, 0, 0, 0, 0, 0, 0, 0, 0, 0 ... (41 more) ], [ 0, 0, 0, 0, 0, 0, 0, 0, 0, 38, 0, 0, 0, 0, 0, 0, 0, 0, 0, 0 ... (41 more) ], [ 0, 0, 0, 0, 0, 0, 0, 0, 0, 0, 359, 0, 0, 0, 0, 0, 0, 0, 0, 0 ... (41 more) ], [ 0, 0, 0, 0, 0, 0, 0, 0, 0, 0, 0, 53, 0, 0, 0, 0, 0, 0, 0, 0 ... (41 more) ], [ 0, 0, 0, 0, 0, 0, 0, 0, 0, 0, 0, 0, 39, 0, 0, 0, 0, 0, 0, 0 ... (41 more) ], [ 0, 0, 0, 0, 0, 0, 0, 0, 0, 0, 0, 0, 0, 172, 0, 0, 0, 0, 0, 0 ... (41 more) ], [ 0, 0, 0, 0, 0, 0, 0, 0, 0, 0, 0, 0, 0, 0, 40, 0, 0, 0, 0, 0 ... (41 more) ], [ 0, 0, 0, 0, 0, 0, 0, 0, 0, 0, 0, 0, 0, 0, 0, 25, 0, 0, 0, 0 ... (41 more) ], [ 0, 0, 0, 0, 0, 0, 0, 0, 0, 0, 3, 0, 0, 0, 0, 0, 37, 0, 0, 0 ... (41 more) ], [ 0, 0, 0, 0, 0, 0, 0, 0, 0, 0, 0, 0, 0, 0, 0, 0, 0, 69, 0, 0 ... (41 more) ], [ 0, 0, 0, 0, 0, 0, 0, 0, 0, 0, 0, 0, 0, 0, 0, 0, 0, 0, 115, 0 ... (41 more) ], [ 0, 0, 0, 0, 0, 0, 0, 0, 0, 0, 0, 0, 0, 0, 0, 0, 0, 0, 0, 60 ... (41 more) ] ... (41 more) ], NumberOfClasses: 61 }</div></td></tr></tbody></table>"
      ]
     },
     "execution_count": 57,
     "metadata": {},
     "output_type": "execute_result"
    }
   ],
   "source": [
    "metrics2"
   ]
  },
  {
   "cell_type": "code",
   "execution_count": 17,
   "metadata": {},
   "outputs": [
    {
     "name": "stdout",
     "output_type": "stream",
     "text": [
      "Saver not created because there are no variables in the graph to restore\n",
      "Saver not created because there are no variables in the graph to restore\n",
      "Restoring parameters from C:\\Users\\luisf\\AppData\\Local\\Temp\\h53sdtxo.04e\\custom_retrained_model_based_on_resnet_v2_50_299.meta\n",
      "Froze 2 variables. \n",
      "Converted 2 variables to const ops. \n"
     ]
    }
   ],
   "source": [
    "IEnumerable<ImageData> images = LoadImages(folder: augmentedDataset, useFolderNameAsLabel: true);\n",
    "IDataView fullImagesDataset = mlContext.Data.LoadFromEnumerable(images);\n",
    "IDataView shuffledFullImageFilePathsDataset = mlContext.Data.ShuffleRows(fullImagesDataset);\n",
    "\n",
    "// 2. Load Images with in-memory type within the IDataView and Transform Labels to Keys (Categorical)\n",
    "IDataView shuffledFullImagesDataset = mlContext.Transforms.Conversion.\n",
    "    MapValueToKey(outputColumnName: \"LabelAsKey\", inputColumnName: \"Label\", keyOrdinality: KeyOrdinality.ByValue)\n",
    "    .Append(mlContext.Transforms.LoadRawImageBytes(\n",
    "        outputColumnName: \"Image\",\n",
    "        imageFolder: augmentedDataset,\n",
    "        inputColumnName: \"ImagePath\"))\n",
    "    .Fit(shuffledFullImageFilePathsDataset)\n",
    "    .Transform(shuffledFullImageFilePathsDataset);\n",
    "\n",
    " // 3. Split the data 80:20 into train and test sets, train and evaluate.\n",
    "var trainTestData = mlContext.Data.TrainTestSplit(shuffledFullImagesDataset, testFraction: 0.2);\n",
    "IDataView trainDataView = trainTestData.TrainSet;\n",
    "IDataView testDataView = trainTestData.TestSet;\n",
    "\n",
    "// 5. Define the model's training pipeline using DNN default values\n",
    "var pipeline = mlContext.MulticlassClassification.Trainers\n",
    ".ImageClassification(featureColumnName: \"Image\",\n",
    "                     labelColumnName: \"LabelAsKey\",\n",
    "                     validationSet: testDataView)\n",
    "    .Append(mlContext.Transforms.Conversion.MapKeyToValue(outputColumnName: \"PredictedLabel\",\n",
    "                                                          inputColumnName: \"PredictedLabel\"));\n",
    "\n",
    "//Train\n",
    "ITransformer trainedModel = pipeline.Fit(trainDataView);\n",
    "\n",
    "var predictionsDataView = trainedModel.Transform(testDataView);\n",
    "var metrics1 = mlContext.MulticlassClassification.Evaluate(predictionsDataView, labelColumnName:\"LabelAsKey\", predictedLabelColumnName: \"PredictedLabel\");"
   ]
  },
  {
   "cell_type": "code",
   "execution_count": 19,
   "metadata": {},
   "outputs": [
    {
     "name": "stdout",
     "output_type": "stream",
     "text": [
      "Micro accuracy: 0,9925976696367375\n",
      "Macro accuracy: 0,9937590517188771\n",
      "Log loss: 0,04162477905448925\n",
      "Log loss reduction: 0,9906119985674973\n"
     ]
    }
   ],
   "source": [
    "Console.WriteLine($\"Micro accuracy: {metrics1.MicroAccuracy}\");\n",
    "Console.WriteLine($\"Macro accuracy: {metrics1.MacroAccuracy}\");\n",
    "Console.WriteLine($\"Log loss: {metrics1.LogLoss}\");\n",
    "Console.WriteLine($\"Log loss reduction: {metrics1.LogLossReduction}\");"
   ]
  },
  {
   "cell_type": "code",
   "execution_count": 35,
   "metadata": {},
   "outputs": [
    {
     "name": "stdout",
     "output_type": "stream",
     "text": [
      "Saver not created because there are no variables in the graph to restore\n",
      "Saver not created because there are no variables in the graph to restore\n",
      "Restoring parameters from C:\\Users\\luisf\\AppData\\Local\\Temp\\fivuy5ik.gpp\\custom_retrained_model_based_on_resnet_v2_50_299.meta\n",
      "Froze 2 variables. \n",
      "Converted 2 variables to const ops. \n"
     ]
    }
   ],
   "source": [
    "IEnumerable<ImageData> images = LoadImages(folder: finalDataset, useFolderNameAsLabel: true);\n",
    "IDataView fullImagesDataset = mlContext.Data.LoadFromEnumerable(images);\n",
    "IDataView shuffledFullImageFilePathsDataset = mlContext.Data.ShuffleRows(fullImagesDataset);\n",
    "\n",
    "// 2. Load Images with in-memory type within the IDataView and Transform Labels to Keys (Categorical)\n",
    "IDataView shuffledFullImagesDataset = mlContext.Transforms.Conversion.\n",
    "    MapValueToKey(outputColumnName: \"LabelAsKey\", inputColumnName: \"Label\", keyOrdinality: KeyOrdinality.ByValue)\n",
    "    .Append(mlContext.Transforms.LoadRawImageBytes(\n",
    "        outputColumnName: \"Image\",\n",
    "        imageFolder: finalDataset,\n",
    "        inputColumnName: \"ImagePath\"))\n",
    "    .Fit(shuffledFullImageFilePathsDataset)\n",
    "    .Transform(shuffledFullImageFilePathsDataset);\n",
    "\n",
    " // 3. Split the data 80:20 into train and test sets, train and evaluate.\n",
    "var trainTestData = mlContext.Data.TrainTestSplit(shuffledFullImagesDataset, testFraction: 0.2);\n",
    "IDataView trainDataView = trainTestData.TrainSet;\n",
    "IDataView testDataView = trainTestData.TestSet;\n",
    "\n",
    "// 5. Define the model's training pipeline using DNN default values\n",
    "var pipeline = mlContext.MulticlassClassification.Trainers\n",
    ".ImageClassification(featureColumnName: \"Image\",\n",
    "                     labelColumnName: \"LabelAsKey\",\n",
    "                     validationSet: testDataView)\n",
    "    .Append(mlContext.Transforms.Conversion.MapKeyToValue(outputColumnName: \"PredictedLabel\",\n",
    "                                                          inputColumnName: \"PredictedLabel\"));\n",
    "\n",
    "//Train\n",
    "ITransformer trainedModel = pipeline.Fit(trainDataView);\n",
    "\n",
    "var predictionsDataView = trainedModel.Transform(testDataView);\n",
    "var metrics = mlContext.MulticlassClassification.Evaluate(predictionsDataView, labelColumnName:\"LabelAsKey\", predictedLabelColumnName: \"PredictedLabel\");"
   ]
  },
  {
   "cell_type": "code",
   "execution_count": 36,
   "metadata": {},
   "outputs": [
    {
     "name": "stdout",
     "output_type": "stream",
     "text": [
      "Micro accuracy: 0,9921648782149549\n",
      "Macro accuracy: 0,9913303593965694\n",
      "Log loss: 0,03925245924054842\n",
      "Log loss reduction: 0,9895491547966805\n"
     ]
    }
   ],
   "source": [
    "Console.WriteLine($\"Micro accuracy: {metrics.MicroAccuracy}\");\n",
    "Console.WriteLine($\"Macro accuracy: {metrics.MacroAccuracy}\");\n",
    "Console.WriteLine($\"Log loss: {metrics.LogLoss}\");\n",
    "Console.WriteLine($\"Log loss reduction: {metrics.LogLossReduction}\");"
   ]
  },
  {
   "cell_type": "markdown",
   "metadata": {},
   "source": []
  }
 ],
 "metadata": {
  "kernelspec": {
   "display_name": ".NET (C#)",
   "language": "C#",
   "name": ".net-csharp"
  },
  "language_info": {
   "file_extension": ".cs",
   "mimetype": "text/x-csharp",
   "name": "C#",
   "pygments_lexer": "csharp",
   "version": "9.0"
  }
 },
 "nbformat": 4,
 "nbformat_minor": 4
}
